{
 "cells": [
  {
   "cell_type": "code",
   "execution_count": 71,
   "id": "ca999673-d9ad-48ac-bfba-b26203fe719f",
   "metadata": {},
   "outputs": [
    {
     "name": "stdout",
     "output_type": "stream",
     "text": [
      "3.10.0\n"
     ]
    }
   ],
   "source": [
    "import platform\n",
    "print(platform.python_version())\n",
    "\n"
   ]
  },
  {
   "cell_type": "code",
   "execution_count": 72,
   "id": "3759a779-a79a-4d15-9464-a0d92fc8a9ee",
   "metadata": {},
   "outputs": [
    {
     "name": "stdout",
     "output_type": "stream",
     "text": [
      "Requirement already satisfied: tensorflow in c:\\users\\hp\\appdata\\local\\programs\\python\\python310\\lib\\site-packages (2.14.0)Note: you may need to restart the kernel to use updated packages.\n"
     ]
    },
    {
     "name": "stderr",
     "output_type": "stream",
     "text": [
      "\n",
      "[notice] A new release of pip is available: 24.2 -> 25.0.1\n",
      "[notice] To update, run: C:\\Users\\HP\\AppData\\Local\\Programs\\Python\\Python310\\python.exe -m pip install --upgrade pip\n"
     ]
    },
    {
     "name": "stdout",
     "output_type": "stream",
     "text": [
      "\n",
      "Requirement already satisfied: scikit-learn in c:\\users\\hp\\appdata\\local\\programs\\python\\python310\\lib\\site-packages (1.3.1)\n",
      "Requirement already satisfied: pandas in c:\\users\\hp\\appdata\\local\\programs\\python\\python310\\lib\\site-packages (2.1.1)\n",
      "Requirement already satisfied: numpy in c:\\users\\hp\\appdata\\local\\programs\\python\\python310\\lib\\site-packages (1.26.0)\n",
      "Requirement already satisfied: matplotlib in c:\\users\\hp\\appdata\\local\\programs\\python\\python310\\lib\\site-packages (3.8.0)\n",
      "Requirement already satisfied: tensorflow-intel==2.14.0 in c:\\users\\hp\\appdata\\local\\programs\\python\\python310\\lib\\site-packages (from tensorflow) (2.14.0)\n",
      "Requirement already satisfied: absl-py>=1.0.0 in c:\\users\\hp\\appdata\\local\\programs\\python\\python310\\lib\\site-packages (from tensorflow-intel==2.14.0->tensorflow) (2.0.0)\n",
      "Requirement already satisfied: astunparse>=1.6.0 in c:\\users\\hp\\appdata\\local\\programs\\python\\python310\\lib\\site-packages (from tensorflow-intel==2.14.0->tensorflow) (1.6.3)\n",
      "Requirement already satisfied: flatbuffers>=23.5.26 in c:\\users\\hp\\appdata\\local\\programs\\python\\python310\\lib\\site-packages (from tensorflow-intel==2.14.0->tensorflow) (23.5.26)\n",
      "Requirement already satisfied: gast!=0.5.0,!=0.5.1,!=0.5.2,>=0.2.1 in c:\\users\\hp\\appdata\\local\\programs\\python\\python310\\lib\\site-packages (from tensorflow-intel==2.14.0->tensorflow) (0.5.4)\n",
      "Requirement already satisfied: google-pasta>=0.1.1 in c:\\users\\hp\\appdata\\local\\programs\\python\\python310\\lib\\site-packages (from tensorflow-intel==2.14.0->tensorflow) (0.2.0)\n",
      "Requirement already satisfied: h5py>=2.9.0 in c:\\users\\hp\\appdata\\local\\programs\\python\\python310\\lib\\site-packages (from tensorflow-intel==2.14.0->tensorflow) (3.10.0)\n",
      "Requirement already satisfied: libclang>=13.0.0 in c:\\users\\hp\\appdata\\local\\programs\\python\\python310\\lib\\site-packages (from tensorflow-intel==2.14.0->tensorflow) (16.0.6)\n",
      "Requirement already satisfied: ml-dtypes==0.2.0 in c:\\users\\hp\\appdata\\local\\programs\\python\\python310\\lib\\site-packages (from tensorflow-intel==2.14.0->tensorflow) (0.2.0)\n",
      "Requirement already satisfied: opt-einsum>=2.3.2 in c:\\users\\hp\\appdata\\local\\programs\\python\\python310\\lib\\site-packages (from tensorflow-intel==2.14.0->tensorflow) (3.3.0)\n",
      "Requirement already satisfied: packaging in c:\\users\\hp\\appdata\\local\\programs\\python\\python310\\lib\\site-packages (from tensorflow-intel==2.14.0->tensorflow) (23.1)\n",
      "Requirement already satisfied: protobuf!=4.21.0,!=4.21.1,!=4.21.2,!=4.21.3,!=4.21.4,!=4.21.5,<5.0.0dev,>=3.20.3 in c:\\users\\hp\\appdata\\local\\programs\\python\\python310\\lib\\site-packages (from tensorflow-intel==2.14.0->tensorflow) (4.24.4)\n",
      "Requirement already satisfied: setuptools in c:\\users\\hp\\appdata\\local\\programs\\python\\python310\\lib\\site-packages (from tensorflow-intel==2.14.0->tensorflow) (57.4.0)\n",
      "Requirement already satisfied: six>=1.12.0 in c:\\users\\hp\\appdata\\local\\programs\\python\\python310\\lib\\site-packages (from tensorflow-intel==2.14.0->tensorflow) (1.16.0)\n",
      "Requirement already satisfied: termcolor>=1.1.0 in c:\\users\\hp\\appdata\\local\\programs\\python\\python310\\lib\\site-packages (from tensorflow-intel==2.14.0->tensorflow) (2.3.0)\n",
      "Requirement already satisfied: typing-extensions>=3.6.6 in c:\\users\\hp\\appdata\\local\\programs\\python\\python310\\lib\\site-packages (from tensorflow-intel==2.14.0->tensorflow) (4.12.2)\n",
      "Requirement already satisfied: wrapt<1.15,>=1.11.0 in c:\\users\\hp\\appdata\\local\\programs\\python\\python310\\lib\\site-packages (from tensorflow-intel==2.14.0->tensorflow) (1.14.1)\n",
      "Requirement already satisfied: tensorflow-io-gcs-filesystem>=0.23.1 in c:\\users\\hp\\appdata\\local\\programs\\python\\python310\\lib\\site-packages (from tensorflow-intel==2.14.0->tensorflow) (0.31.0)\n",
      "Requirement already satisfied: grpcio<2.0,>=1.24.3 in c:\\users\\hp\\appdata\\local\\programs\\python\\python310\\lib\\site-packages (from tensorflow-intel==2.14.0->tensorflow) (1.59.0)\n",
      "Requirement already satisfied: tensorboard<2.15,>=2.14 in c:\\users\\hp\\appdata\\local\\programs\\python\\python310\\lib\\site-packages (from tensorflow-intel==2.14.0->tensorflow) (2.14.1)\n",
      "Requirement already satisfied: tensorflow-estimator<2.15,>=2.14.0 in c:\\users\\hp\\appdata\\local\\programs\\python\\python310\\lib\\site-packages (from tensorflow-intel==2.14.0->tensorflow) (2.14.0)\n",
      "Requirement already satisfied: keras<2.15,>=2.14.0 in c:\\users\\hp\\appdata\\local\\programs\\python\\python310\\lib\\site-packages (from tensorflow-intel==2.14.0->tensorflow) (2.14.0)\n",
      "Requirement already satisfied: scipy>=1.5.0 in c:\\users\\hp\\appdata\\local\\programs\\python\\python310\\lib\\site-packages (from scikit-learn) (1.11.2)\n",
      "Requirement already satisfied: joblib>=1.1.1 in c:\\users\\hp\\appdata\\local\\programs\\python\\python310\\lib\\site-packages (from scikit-learn) (1.3.2)\n",
      "Requirement already satisfied: threadpoolctl>=2.0.0 in c:\\users\\hp\\appdata\\local\\programs\\python\\python310\\lib\\site-packages (from scikit-learn) (3.2.0)\n",
      "Requirement already satisfied: python-dateutil>=2.8.2 in c:\\users\\hp\\appdata\\local\\programs\\python\\python310\\lib\\site-packages (from pandas) (2.8.2)\n",
      "Requirement already satisfied: pytz>=2020.1 in c:\\users\\hp\\appdata\\local\\programs\\python\\python310\\lib\\site-packages (from pandas) (2023.3.post1)\n",
      "Requirement already satisfied: tzdata>=2022.1 in c:\\users\\hp\\appdata\\local\\programs\\python\\python310\\lib\\site-packages (from pandas) (2023.3)\n",
      "Requirement already satisfied: contourpy>=1.0.1 in c:\\users\\hp\\appdata\\local\\programs\\python\\python310\\lib\\site-packages (from matplotlib) (1.1.1)\n",
      "Requirement already satisfied: cycler>=0.10 in c:\\users\\hp\\appdata\\local\\programs\\python\\python310\\lib\\site-packages (from matplotlib) (0.11.0)\n",
      "Requirement already satisfied: fonttools>=4.22.0 in c:\\users\\hp\\appdata\\local\\programs\\python\\python310\\lib\\site-packages (from matplotlib) (4.42.1)\n",
      "Requirement already satisfied: kiwisolver>=1.0.1 in c:\\users\\hp\\appdata\\local\\programs\\python\\python310\\lib\\site-packages (from matplotlib) (1.4.5)\n",
      "Requirement already satisfied: pillow>=6.2.0 in c:\\users\\hp\\appdata\\local\\programs\\python\\python310\\lib\\site-packages (from matplotlib) (10.0.1)\n",
      "Requirement already satisfied: pyparsing>=2.3.1 in c:\\users\\hp\\appdata\\local\\programs\\python\\python310\\lib\\site-packages (from matplotlib) (3.1.1)\n",
      "Requirement already satisfied: wheel<1.0,>=0.23.0 in c:\\users\\hp\\appdata\\local\\programs\\python\\python310\\lib\\site-packages (from astunparse>=1.6.0->tensorflow-intel==2.14.0->tensorflow) (0.41.2)\n",
      "Requirement already satisfied: google-auth<3,>=1.6.3 in c:\\users\\hp\\appdata\\local\\programs\\python\\python310\\lib\\site-packages (from tensorboard<2.15,>=2.14->tensorflow-intel==2.14.0->tensorflow) (2.23.3)\n",
      "Requirement already satisfied: google-auth-oauthlib<1.1,>=0.5 in c:\\users\\hp\\appdata\\local\\programs\\python\\python310\\lib\\site-packages (from tensorboard<2.15,>=2.14->tensorflow-intel==2.14.0->tensorflow) (1.0.0)\n",
      "Requirement already satisfied: markdown>=2.6.8 in c:\\users\\hp\\appdata\\local\\programs\\python\\python310\\lib\\site-packages (from tensorboard<2.15,>=2.14->tensorflow-intel==2.14.0->tensorflow) (3.5)\n",
      "Requirement already satisfied: requests<3,>=2.21.0 in c:\\users\\hp\\appdata\\local\\programs\\python\\python310\\lib\\site-packages (from tensorboard<2.15,>=2.14->tensorflow-intel==2.14.0->tensorflow) (2.31.0)\n",
      "Requirement already satisfied: tensorboard-data-server<0.8.0,>=0.7.0 in c:\\users\\hp\\appdata\\local\\programs\\python\\python310\\lib\\site-packages (from tensorboard<2.15,>=2.14->tensorflow-intel==2.14.0->tensorflow) (0.7.2)\n",
      "Requirement already satisfied: werkzeug>=1.0.1 in c:\\users\\hp\\appdata\\local\\programs\\python\\python310\\lib\\site-packages (from tensorboard<2.15,>=2.14->tensorflow-intel==2.14.0->tensorflow) (3.0.0)\n",
      "Requirement already satisfied: cachetools<6.0,>=2.0.0 in c:\\users\\hp\\appdata\\local\\programs\\python\\python310\\lib\\site-packages (from google-auth<3,>=1.6.3->tensorboard<2.15,>=2.14->tensorflow-intel==2.14.0->tensorflow) (5.3.1)\n",
      "Requirement already satisfied: pyasn1-modules>=0.2.1 in c:\\users\\hp\\appdata\\local\\programs\\python\\python310\\lib\\site-packages (from google-auth<3,>=1.6.3->tensorboard<2.15,>=2.14->tensorflow-intel==2.14.0->tensorflow) (0.3.0)\n",
      "Requirement already satisfied: rsa<5,>=3.1.4 in c:\\users\\hp\\appdata\\local\\programs\\python\\python310\\lib\\site-packages (from google-auth<3,>=1.6.3->tensorboard<2.15,>=2.14->tensorflow-intel==2.14.0->tensorflow) (4.9)\n",
      "Requirement already satisfied: requests-oauthlib>=0.7.0 in c:\\users\\hp\\appdata\\local\\programs\\python\\python310\\lib\\site-packages (from google-auth-oauthlib<1.1,>=0.5->tensorboard<2.15,>=2.14->tensorflow-intel==2.14.0->tensorflow) (1.3.1)\n",
      "Requirement already satisfied: charset-normalizer<4,>=2 in c:\\users\\hp\\appdata\\local\\programs\\python\\python310\\lib\\site-packages (from requests<3,>=2.21.0->tensorboard<2.15,>=2.14->tensorflow-intel==2.14.0->tensorflow) (3.2.0)\n",
      "Requirement already satisfied: idna<4,>=2.5 in c:\\users\\hp\\appdata\\local\\programs\\python\\python310\\lib\\site-packages (from requests<3,>=2.21.0->tensorboard<2.15,>=2.14->tensorflow-intel==2.14.0->tensorflow) (3.4)\n",
      "Requirement already satisfied: urllib3<3,>=1.21.1 in c:\\users\\hp\\appdata\\local\\programs\\python\\python310\\lib\\site-packages (from requests<3,>=2.21.0->tensorboard<2.15,>=2.14->tensorflow-intel==2.14.0->tensorflow) (2.0.5)\n",
      "Requirement already satisfied: certifi>=2017.4.17 in c:\\users\\hp\\appdata\\local\\programs\\python\\python310\\lib\\site-packages (from requests<3,>=2.21.0->tensorboard<2.15,>=2.14->tensorflow-intel==2.14.0->tensorflow) (2023.7.22)\n",
      "Requirement already satisfied: MarkupSafe>=2.1.1 in c:\\users\\hp\\appdata\\local\\programs\\python\\python310\\lib\\site-packages (from werkzeug>=1.0.1->tensorboard<2.15,>=2.14->tensorflow-intel==2.14.0->tensorflow) (2.1.3)\n",
      "Requirement already satisfied: pyasn1<0.6.0,>=0.4.6 in c:\\users\\hp\\appdata\\local\\programs\\python\\python310\\lib\\site-packages (from pyasn1-modules>=0.2.1->google-auth<3,>=1.6.3->tensorboard<2.15,>=2.14->tensorflow-intel==2.14.0->tensorflow) (0.5.0)\n",
      "Requirement already satisfied: oauthlib>=3.0.0 in c:\\users\\hp\\appdata\\local\\programs\\python\\python310\\lib\\site-packages (from requests-oauthlib>=0.7.0->google-auth-oauthlib<1.1,>=0.5->tensorboard<2.15,>=2.14->tensorflow-intel==2.14.0->tensorflow) (3.2.2)\n"
     ]
    }
   ],
   "source": [
    "pip install tensorflow scikit-learn pandas numpy matplotlib\n"
   ]
  },
  {
   "cell_type": "code",
   "execution_count": 73,
   "id": "9ade55db-beaa-4018-bac7-f5712629d96c",
   "metadata": {},
   "outputs": [],
   "source": [
    "import pandas as pd\n",
    "import numpy as np\n",
    "from sklearn.model_selection import train_test_split\n",
    "from sklearn.preprocessing import StandardScaler\n",
    "import tensorflow as tf\n",
    "from tensorflow.keras.models import Sequential\n",
    "from tensorflow.keras.layers import Dense"
   ]
  },
  {
   "cell_type": "code",
   "execution_count": 74,
   "id": "852dad35-8a81-4864-b18f-b553a0f38a0f",
   "metadata": {},
   "outputs": [],
   "source": [
    "train_data=pd.read_csv(\"D:/Desktop_documents/7th_Semester/UNIVERSITY/G2-BIG_DATA\\PROJECT/Train.csv\")\n",
    "test_data=pd.read_csv(\"D:/Desktop_documents/7th_Semester/UNIVERSITY/G2-BIG_DATA/PROJECT/Test.csv\")"
   ]
  },
  {
   "cell_type": "code",
   "execution_count": 75,
   "id": "b8284691-d02c-4567-9f78-36072d18347f",
   "metadata": {},
   "outputs": [
    {
     "data": {
      "text/plain": [
       "Item_Identifier                 0\n",
       "Item_Weight                  1463\n",
       "Item_Fat_Content                0\n",
       "Item_Visibility                 0\n",
       "Item_Type                       0\n",
       "Item_MRP                        0\n",
       "Outlet_Identifier               0\n",
       "Outlet_Establishment_Year       0\n",
       "Outlet_Size                  2410\n",
       "Outlet_Location_Type            0\n",
       "Outlet_Type                     0\n",
       "Item_Outlet_Sales               0\n",
       "dtype: int64"
      ]
     },
     "execution_count": 75,
     "metadata": {},
     "output_type": "execute_result"
    }
   ],
   "source": [
    "train_data.isnull().sum()\n",
    "\n",
    "#check null values in dataset\n",
    "#info : 1463 values are missing in column \"Item_Weight\""
   ]
  },
  {
   "cell_type": "code",
   "execution_count": 76,
   "id": "891bb6ef-c623-468b-a6e5-6bf5faf3f217",
   "metadata": {},
   "outputs": [
    {
     "data": {
      "text/plain": [
       "0        9.300\n",
       "1        5.920\n",
       "2       17.500\n",
       "3       19.200\n",
       "4        8.930\n",
       "         ...  \n",
       "8518     6.865\n",
       "8519     8.380\n",
       "8520    10.600\n",
       "8521     7.210\n",
       "8522    14.800\n",
       "Name: Item_Weight, Length: 8523, dtype: float64"
      ]
     },
     "execution_count": 76,
     "metadata": {},
     "output_type": "execute_result"
    }
   ],
   "source": [
    "#Handling The missing values\n",
    "train_data['Item_Weight'] "
   ]
  },
  {
   "cell_type": "code",
   "execution_count": 77,
   "id": "5b2bff83-f337-4d82-8d80-a5c5401255e0",
   "metadata": {},
   "outputs": [
    {
     "data": {
      "text/plain": [
       "0       Medium\n",
       "1       Medium\n",
       "2       Medium\n",
       "3          NaN\n",
       "4         High\n",
       "         ...  \n",
       "8518      High\n",
       "8519       NaN\n",
       "8520     Small\n",
       "8521    Medium\n",
       "8522     Small\n",
       "Name: Outlet_Size, Length: 8523, dtype: object"
      ]
     },
     "execution_count": 77,
     "metadata": {},
     "output_type": "execute_result"
    }
   ],
   "source": [
    "#Handling The missing values\n",
    "train_data['Outlet_Size'] "
   ]
  },
  {
   "cell_type": "code",
   "execution_count": 78,
   "id": "d95ca65d-f42a-4d23-9db6-a12803273f81",
   "metadata": {},
   "outputs": [],
   "source": [
    "#univariate Imputation\n",
    "#Filling Missing Values using information from the column that has missing data\n",
    "mean_weight = train_data['Item_Weight'].mean()"
   ]
  },
  {
   "cell_type": "code",
   "execution_count": 79,
   "id": "5afabbf6-c22a-4322-8bb1-e206a5ed0779",
   "metadata": {},
   "outputs": [],
   "source": [
    "median_weight = train_data['Item_Weight'].median()"
   ]
  },
  {
   "cell_type": "code",
   "execution_count": 80,
   "id": "5f43fae1-f9a6-4898-a405-34129e808842",
   "metadata": {},
   "outputs": [
    {
     "name": "stdout",
     "output_type": "stream",
     "text": [
      "12.857645184135976 12.6\n"
     ]
    }
   ],
   "source": [
    "print(mean_weight,median_weight)"
   ]
  },
  {
   "cell_type": "code",
   "execution_count": 81,
   "id": "b00769d8-4054-4613-941a-958e0f43213d",
   "metadata": {},
   "outputs": [],
   "source": [
    "train_data['Item_Weight_mean']=train_data['Item_Weight'].fillna(mean_weight)\n",
    "train_data['Item_Weight_median']=train_data['Item_Weight'].fillna(median_weight)"
   ]
  },
  {
   "cell_type": "code",
   "execution_count": 82,
   "id": "5e354145-eb8d-4da0-a078-31174ea38da3",
   "metadata": {},
   "outputs": [
    {
     "name": "stdout",
     "output_type": "stream",
     "text": [
      "Original Weight variable variance 21.561688259836558\n",
      "Item Weight variance after mean imputation 17.86012173506058\n",
      "Item Weight variance after median imputation 17.869561454073647\n"
     ]
    }
   ],
   "source": [
    "\n",
    "print(\"Original Weight variable variance\",train_data['Item_Weight'].var())\n",
    "print(\"Item Weight variance after mean imputation\",train_data['Item_Weight_mean'].var())\n",
    "print(\"Item Weight variance after median imputation\",train_data['Item_Weight_median'].var())\n",
    "#These variances show that both imputations reduced the variance slightly."
   ]
  },
  {
   "cell_type": "code",
   "execution_count": 83,
   "id": "babdcbf6-e965-41ad-ae9c-3ceddbd6db61",
   "metadata": {},
   "outputs": [
    {
     "data": {
      "image/png": "[encoded data removed]",
      "text/plain": [
       "<Figure size 640x480 with 1 Axes>"
      ]
     },
     "metadata": {},
     "output_type": "display_data"
    }
   ],
   "source": [
    "import matplotlib.pyplot as plt\n",
    "\n",
    "train_data['Item_Weight'].plot(kind = \"kde\",label=\"Original\")\n",
    "\n",
    "train_data['Item_Weight_mean'].plot(kind = \"kde\",label = \"Mean\")\n",
    "\n",
    "train_data['Item_Weight_median'].plot(kind = \"kde\",label = \"Median\")\n",
    "\n",
    "plt.legend()\n",
    "plt.show()"
   ]
  },
  {
   "cell_type": "code",
   "execution_count": 84,
   "id": "6765bff7-ed6b-4f3b-933f-61f78d8025ca",
   "metadata": {},
   "outputs": [
    {
     "data": {
      "image/png": "[encoded data removed]",
      "text/plain": [
       "<Figure size 640x480 with 1 Axes>"
      ]
     },
     "metadata": {},
     "output_type": "display_data"
    }
   ],
   "source": [
    "train_data['Item_Weight'].plot(kind = \"kde\",label=\"Original\")\n",
    "\n",
    "train_data['Item_Weight_mean'].plot(kind = \"kde\",label = \"Mean\")\n",
    "\n",
    "train_data['Item_Weight_median'].plot(kind = \"kde\",label = \"Median\")\n",
    "\n",
    "plt.legend()\n",
    "plt.show()"
   ]
  },
  {
   "cell_type": "code",
   "execution_count": 85,
   "id": "d7108e1c-1a5f-49c4-a27f-12b678345975",
   "metadata": {},
   "outputs": [
    {
     "data": {
      "text/plain": [
       "<Axes: >"
      ]
     },
     "execution_count": 85,
     "metadata": {},
     "output_type": "execute_result"
    },
    {
     "data": {
      "image/png": "[encoded data removed]",
      "text/plain": [
       "<Figure size 640x480 with 1 Axes>"
      ]
     },
     "metadata": {},
     "output_type": "display_data"
    }
   ],
   "source": [
    "train_data[['Item_Weight','Item_Weight_mean','Item_Weight_median']].boxplot()\n",
    "#spread of the data became smaller. "
   ]
  },
  {
   "cell_type": "code",
   "execution_count": 86,
   "id": "956144a9-02aa-48e9-9785-3968af7a5129",
   "metadata": {},
   "outputs": [],
   "source": [
    "train_data['Item_Weight_interploate']=train_data['Item_Weight'].interpolate(method=\"linear\")\n",
    "test_data['Item_Weight_interploate']=test_data['Item_Weight'].interpolate(method=\"linear\")\n"
   ]
  },
  {
   "cell_type": "code",
   "execution_count": 87,
   "id": "bbeb8b5a-38db-4664-97a8-82acb6451530",
   "metadata": {},
   "outputs": [],
   "source": [
    "train_data = train_data.drop(['Item_Weight','Item_Weight_mean','Item_Weight_median'],axis=1)"
   ]
  },
  {
   "cell_type": "code",
   "execution_count": 88,
   "id": "9bd28557-27b7-4182-9567-5b5f9050b518",
   "metadata": {},
   "outputs": [
    {
     "data": {
      "text/plain": [
       "Item_Identifier                 0\n",
       "Item_Fat_Content                0\n",
       "Item_Visibility                 0\n",
       "Item_Type                       0\n",
       "Item_MRP                        0\n",
       "Outlet_Identifier               0\n",
       "Outlet_Establishment_Year       0\n",
       "Outlet_Size                  2410\n",
       "Outlet_Location_Type            0\n",
       "Outlet_Type                     0\n",
       "Item_Outlet_Sales               0\n",
       "Item_Weight_interploate         0\n",
       "dtype: int64"
      ]
     },
     "execution_count": 88,
     "metadata": {},
     "output_type": "execute_result"
    }
   ],
   "source": [
    "train_data.isnull().sum()"
   ]
  },
  {
   "cell_type": "code",
   "execution_count": 89,
   "id": "a89ecd89-8d3e-4be2-9999-1e370775d3b0",
   "metadata": {},
   "outputs": [],
   "source": [
    "test_data = test_data.drop(['Item_Weight'],axis=1)"
   ]
  },
  {
   "cell_type": "code",
   "execution_count": 90,
   "id": "b7a3dc00-fdca-4140-8790-03bf99ca1df2",
   "metadata": {},
   "outputs": [
    {
     "data": {
      "text/plain": [
       "Item_Identifier                 0\n",
       "Item_Fat_Content                0\n",
       "Item_Visibility                 0\n",
       "Item_Type                       0\n",
       "Item_MRP                        0\n",
       "Outlet_Identifier               0\n",
       "Outlet_Establishment_Year       0\n",
       "Outlet_Size                  1606\n",
       "Outlet_Location_Type            0\n",
       "Outlet_Type                     0\n",
       "Item_Weight_interploate         0\n",
       "dtype: int64"
      ]
     },
     "execution_count": 90,
     "metadata": {},
     "output_type": "execute_result"
    }
   ],
   "source": [
    "test_data.isnull().sum()"
   ]
  },
  {
   "cell_type": "code",
   "execution_count": 91,
   "id": "c8b6f792-aada-4644-aa55-72a059fc4094",
   "metadata": {},
   "outputs": [
    {
     "data": {
      "text/plain": [
       "Outlet_Size\n",
       "Medium    2793\n",
       "Small     2388\n",
       "High       932\n",
       "Name: count, dtype: int64"
      ]
     },
     "execution_count": 91,
     "metadata": {},
     "output_type": "execute_result"
    }
   ],
   "source": [
    "#missing values for column 'Outlet_size'\n",
    "#categorical column\n",
    "#using mode (most freq value)\n",
    "train_data['Outlet_Size'].value_counts()\n"
   ]
  },
  {
   "cell_type": "code",
   "execution_count": 92,
   "id": "98fd4434-ab8e-4ea2-9660-bd024bc601c5",
   "metadata": {},
   "outputs": [
    {
     "data": {
      "text/plain": [
       "0    Medium\n",
       "Name: Outlet_Size, dtype: object"
      ]
     },
     "execution_count": 92,
     "metadata": {},
     "output_type": "execute_result"
    }
   ],
   "source": [
    "train_data['Outlet_Size'].mode()\n"
   ]
  },
  {
   "cell_type": "code",
   "execution_count": 93,
   "id": "c2066a12-5161-4126-9a3a-fc259063ecd0",
   "metadata": {},
   "outputs": [],
   "source": [
    "train_data['Outlet_Size'].fillna(train_data['Outlet_Size'].mode()[0],inplace=True)\n",
    "test_data['Outlet_Size'].fillna(test_data['Outlet_Size'].mode()[0],inplace=True)"
   ]
  },
  {
   "cell_type": "code",
   "execution_count": 94,
   "id": "4673f4fe-171f-41da-b617-25afc8a14415",
   "metadata": {},
   "outputs": [
    {
     "data": {
      "text/plain": [
       "Item_Identifier              0\n",
       "Item_Fat_Content             0\n",
       "Item_Visibility              0\n",
       "Item_Type                    0\n",
       "Item_MRP                     0\n",
       "Outlet_Identifier            0\n",
       "Outlet_Establishment_Year    0\n",
       "Outlet_Size                  0\n",
       "Outlet_Location_Type         0\n",
       "Outlet_Type                  0\n",
       "Item_Outlet_Sales            0\n",
       "Item_Weight_interploate      0\n",
       "dtype: int64"
      ]
     },
     "execution_count": 94,
     "metadata": {},
     "output_type": "execute_result"
    }
   ],
   "source": [
    "train_data.isnull().sum()\n"
   ]
  },
  {
   "cell_type": "code",
   "execution_count": 95,
   "id": "5d392530-4e3a-4ccb-8d14-ab06e27c3d44",
   "metadata": {},
   "outputs": [
    {
     "data": {
      "text/plain": [
       "Item_Identifier              0\n",
       "Item_Fat_Content             0\n",
       "Item_Visibility              0\n",
       "Item_Type                    0\n",
       "Item_MRP                     0\n",
       "Outlet_Identifier            0\n",
       "Outlet_Establishment_Year    0\n",
       "Outlet_Size                  0\n",
       "Outlet_Location_Type         0\n",
       "Outlet_Type                  0\n",
       "Item_Weight_interploate      0\n",
       "dtype: int64"
      ]
     },
     "execution_count": 95,
     "metadata": {},
     "output_type": "execute_result"
    }
   ],
   "source": [
    "test_data.isnull().sum()\n"
   ]
  },
  {
   "cell_type": "code",
   "execution_count": 96,
   "id": "bd15f7c5-dc8f-4292-b460-0c716d50c635",
   "metadata": {},
   "outputs": [
    {
     "data": {
      "text/html": [
       "<div>\n",
       "<style scoped>\n",
       "    .dataframe tbody tr th:only-of-type {\n",
       "        vertical-align: middle;\n",
       "    }\n",
       "\n",
       "    .dataframe tbody tr th {\n",
       "        vertical-align: top;\n",
       "    }\n",
       "\n",
       "    .dataframe thead th {\n",
       "        text-align: right;\n",
       "    }\n",
       "</style>\n",
       "<table border=\"1\" class=\"dataframe\">\n",
       "  <thead>\n",
       "    <tr style=\"text-align: right;\">\n",
       "      <th></th>\n",
       "      <th>Item_Identifier</th>\n",
       "      <th>Item_Fat_Content</th>\n",
       "      <th>Item_Visibility</th>\n",
       "      <th>Item_Type</th>\n",
       "      <th>Item_MRP</th>\n",
       "      <th>Outlet_Identifier</th>\n",
       "      <th>Outlet_Establishment_Year</th>\n",
       "      <th>Outlet_Size</th>\n",
       "      <th>Outlet_Location_Type</th>\n",
       "      <th>Outlet_Type</th>\n",
       "      <th>Item_Outlet_Sales</th>\n",
       "      <th>Item_Weight_interploate</th>\n",
       "    </tr>\n",
       "  </thead>\n",
       "  <tbody>\n",
       "    <tr>\n",
       "      <th>0</th>\n",
       "      <td>FDA15</td>\n",
       "      <td>Low Fat</td>\n",
       "      <td>0.016047</td>\n",
       "      <td>Dairy</td>\n",
       "      <td>249.8092</td>\n",
       "      <td>OUT049</td>\n",
       "      <td>1999</td>\n",
       "      <td>Medium</td>\n",
       "      <td>Tier 1</td>\n",
       "      <td>Supermarket Type1</td>\n",
       "      <td>3735.1380</td>\n",
       "      <td>9.30</td>\n",
       "    </tr>\n",
       "    <tr>\n",
       "      <th>1</th>\n",
       "      <td>DRC01</td>\n",
       "      <td>Regular</td>\n",
       "      <td>0.019278</td>\n",
       "      <td>Soft Drinks</td>\n",
       "      <td>48.2692</td>\n",
       "      <td>OUT018</td>\n",
       "      <td>2009</td>\n",
       "      <td>Medium</td>\n",
       "      <td>Tier 3</td>\n",
       "      <td>Supermarket Type2</td>\n",
       "      <td>443.4228</td>\n",
       "      <td>5.92</td>\n",
       "    </tr>\n",
       "    <tr>\n",
       "      <th>2</th>\n",
       "      <td>FDN15</td>\n",
       "      <td>Low Fat</td>\n",
       "      <td>0.016760</td>\n",
       "      <td>Meat</td>\n",
       "      <td>141.6180</td>\n",
       "      <td>OUT049</td>\n",
       "      <td>1999</td>\n",
       "      <td>Medium</td>\n",
       "      <td>Tier 1</td>\n",
       "      <td>Supermarket Type1</td>\n",
       "      <td>2097.2700</td>\n",
       "      <td>17.50</td>\n",
       "    </tr>\n",
       "    <tr>\n",
       "      <th>3</th>\n",
       "      <td>FDX07</td>\n",
       "      <td>Regular</td>\n",
       "      <td>0.000000</td>\n",
       "      <td>Fruits and Vegetables</td>\n",
       "      <td>182.0950</td>\n",
       "      <td>OUT010</td>\n",
       "      <td>1998</td>\n",
       "      <td>Medium</td>\n",
       "      <td>Tier 3</td>\n",
       "      <td>Grocery Store</td>\n",
       "      <td>732.3800</td>\n",
       "      <td>19.20</td>\n",
       "    </tr>\n",
       "    <tr>\n",
       "      <th>4</th>\n",
       "      <td>NCD19</td>\n",
       "      <td>Low Fat</td>\n",
       "      <td>0.000000</td>\n",
       "      <td>Household</td>\n",
       "      <td>53.8614</td>\n",
       "      <td>OUT013</td>\n",
       "      <td>1987</td>\n",
       "      <td>High</td>\n",
       "      <td>Tier 3</td>\n",
       "      <td>Supermarket Type1</td>\n",
       "      <td>994.7052</td>\n",
       "      <td>8.93</td>\n",
       "    </tr>\n",
       "  </tbody>\n",
       "</table>\n",
       "</div>"
      ],
      "text/plain": [
       "  Item_Identifier Item_Fat_Content  Item_Visibility              Item_Type  \\\n",
       "0           FDA15          Low Fat         0.016047                  Dairy   \n",
       "1           DRC01          Regular         0.019278            Soft Drinks   \n",
       "2           FDN15          Low Fat         0.016760                   Meat   \n",
       "3           FDX07          Regular         0.000000  Fruits and Vegetables   \n",
       "4           NCD19          Low Fat         0.000000              Household   \n",
       "\n",
       "   Item_MRP Outlet_Identifier  Outlet_Establishment_Year Outlet_Size  \\\n",
       "0  249.8092            OUT049                       1999      Medium   \n",
       "1   48.2692            OUT018                       2009      Medium   \n",
       "2  141.6180            OUT049                       1999      Medium   \n",
       "3  182.0950            OUT010                       1998      Medium   \n",
       "4   53.8614            OUT013                       1987        High   \n",
       "\n",
       "  Outlet_Location_Type        Outlet_Type  Item_Outlet_Sales  \\\n",
       "0               Tier 1  Supermarket Type1          3735.1380   \n",
       "1               Tier 3  Supermarket Type2           443.4228   \n",
       "2               Tier 1  Supermarket Type1          2097.2700   \n",
       "3               Tier 3      Grocery Store           732.3800   \n",
       "4               Tier 3  Supermarket Type1           994.7052   \n",
       "\n",
       "   Item_Weight_interploate  \n",
       "0                     9.30  \n",
       "1                     5.92  \n",
       "2                    17.50  \n",
       "3                    19.20  \n",
       "4                     8.93  "
      ]
     },
     "execution_count": 96,
     "metadata": {},
     "output_type": "execute_result"
    }
   ],
   "source": [
    "train_data.head()"
   ]
  },
  {
   "cell_type": "code",
   "execution_count": 97,
   "id": "92e9528d-6371-41de-aa7f-fbba416f44ab",
   "metadata": {},
   "outputs": [
    {
     "data": {
      "text/plain": [
       "Index(['Item_Identifier', 'Item_Fat_Content', 'Item_Visibility', 'Item_Type',\n",
       "       'Item_MRP', 'Outlet_Identifier', 'Outlet_Establishment_Year',\n",
       "       'Outlet_Size', 'Outlet_Location_Type', 'Outlet_Type',\n",
       "       'Item_Outlet_Sales', 'Item_Weight_interploate'],\n",
       "      dtype='object')"
      ]
     },
     "execution_count": 97,
     "metadata": {},
     "output_type": "execute_result"
    }
   ],
   "source": [
    "train_data.columns\n"
   ]
  },
  {
   "cell_type": "code",
   "execution_count": 98,
   "id": "79f68399-10b0-4fa8-9b3f-75fba42aa155",
   "metadata": {},
   "outputs": [
    {
     "data": {
      "text/plain": [
       "Item_Fat_Content\n",
       "Low Fat    5089\n",
       "Regular    2889\n",
       "LF          316\n",
       "reg         117\n",
       "low fat     112\n",
       "Name: count, dtype: int64"
      ]
     },
     "execution_count": 98,
     "metadata": {},
     "output_type": "execute_result"
    }
   ],
   "source": [
    "train_data['Item_Fat_Content'].value_counts()\n",
    "# inconsistent categorical data"
   ]
  },
  {
   "cell_type": "code",
   "execution_count": 99,
   "id": "a23ba9f6-7ad2-4998-8855-2560c0c4d278",
   "metadata": {},
   "outputs": [
    {
     "data": {
      "text/plain": [
       "Item_Fat_Content\n",
       "Low Fat    3396\n",
       "Regular    1935\n",
       "LF          206\n",
       "reg          78\n",
       "low fat      66\n",
       "Name: count, dtype: int64"
      ]
     },
     "execution_count": 99,
     "metadata": {},
     "output_type": "execute_result"
    }
   ],
   "source": [
    "test_data['Item_Fat_Content'].value_counts()\n"
   ]
  },
  {
   "cell_type": "code",
   "execution_count": 100,
   "id": "ada30331-b102-45ba-8b52-3a45cdf8af82",
   "metadata": {},
   "outputs": [
    {
     "data": {
      "text/plain": [
       "Item_Fat_Content\n",
       "LF         5517\n",
       "Regular    3006\n",
       "Name: count, dtype: int64"
      ]
     },
     "execution_count": 100,
     "metadata": {},
     "output_type": "execute_result"
    }
   ],
   "source": [
    "train_data.replace({'Item_Fat_Content':{'Low Fat':'LF','low fat':'LF','reg':'Regular'}},inplace=True)\n",
    "train_data['Item_Fat_Content'].value_counts()"
   ]
  },
  {
   "cell_type": "code",
   "execution_count": 101,
   "id": "02472938-f3e0-43b8-b91d-50a660c07166",
   "metadata": {},
   "outputs": [
    {
     "data": {
      "text/plain": [
       "Item_Fat_Content\n",
       "LF         3668\n",
       "Regular    2013\n",
       "Name: count, dtype: int64"
      ]
     },
     "execution_count": 101,
     "metadata": {},
     "output_type": "execute_result"
    }
   ],
   "source": [
    "test_data.replace({'Item_Fat_Content':{'Low Fat':'LF','low fat':'LF','reg':'Regular'}},inplace=True)\n",
    "test_data['Item_Fat_Content'].value_counts()"
   ]
  },
  {
   "cell_type": "code",
   "execution_count": 102,
   "id": "c83d6a73-14cb-403e-90b7-e7b7857184d6",
   "metadata": {},
   "outputs": [
    {
     "data": {
      "text/plain": [
       "Item_Visibility\n",
       "0.000000    526\n",
       "0.076975      3\n",
       "0.162462      2\n",
       "0.076841      2\n",
       "0.073562      2\n",
       "           ... \n",
       "0.013957      1\n",
       "0.110460      1\n",
       "0.124646      1\n",
       "0.054142      1\n",
       "0.044878      1\n",
       "Name: count, Length: 7880, dtype: int64"
      ]
     },
     "execution_count": 102,
     "metadata": {},
     "output_type": "execute_result"
    }
   ],
   "source": [
    "#another column \"Item_Visibility\"\n",
    "train_data['Item_Visibility'].value_counts()\n"
   ]
  },
  {
   "cell_type": "code",
   "execution_count": 103,
   "id": "301a4c06-284d-4918-a597-87e8a08cae38",
   "metadata": {},
   "outputs": [
    {
     "data": {
      "text/plain": [
       "Item_Visibility\n",
       "0.000000    353\n",
       "0.060879      2\n",
       "0.097213      2\n",
       "0.058461      2\n",
       "0.058132      2\n",
       "           ... \n",
       "0.082382      1\n",
       "0.026175      1\n",
       "0.155144      1\n",
       "0.069557      1\n",
       "0.104720      1\n",
       "Name: count, Length: 5277, dtype: int64"
      ]
     },
     "execution_count": 103,
     "metadata": {},
     "output_type": "execute_result"
    }
   ],
   "source": [
    "test_data['Item_Visibility'].value_counts()\n"
   ]
  },
  {
   "cell_type": "code",
   "execution_count": 104,
   "id": "443e964d-a0b1-4f4a-8fac-d4e7ce26f521",
   "metadata": {},
   "outputs": [],
   "source": [
    "#handling 526 zeroes as missing values\n",
    "train_data['Item_Visibility_interpolate']=train_data['Item_Visibility'].replace(0,np.nan).interpolate(method='linear')\n",
    "    # replacing all occurrences of 0 in the Item_Visibility column with NaN \n",
    "    #Applying linear interpolation."
   ]
  },
  {
   "cell_type": "code",
   "execution_count": 105,
   "id": "67590fe2-e3b1-4f53-a3f4-1db876ed1940",
   "metadata": {},
   "outputs": [],
   "source": [
    "test_data['Item_Visibility_interpolate']=test_data['Item_Visibility'].replace(0,np.nan).interpolate(method='linear')\n"
   ]
  },
  {
   "cell_type": "code",
   "execution_count": 106,
   "id": "94b51f86-4a54-4a99-9b38-53365601edf0",
   "metadata": {},
   "outputs": [
    {
     "data": {
      "text/plain": [
       "Item_Visibility_interpolate\n",
       "0.076975    3\n",
       "0.044024    2\n",
       "0.040912    2\n",
       "0.076856    2\n",
       "0.078759    2\n",
       "           ..\n",
       "0.021011    1\n",
       "0.099189    1\n",
       "0.076866    1\n",
       "0.014116    1\n",
       "0.044878    1\n",
       "Name: count, Length: 8405, dtype: int64"
      ]
     },
     "execution_count": 106,
     "metadata": {},
     "output_type": "execute_result"
    }
   ],
   "source": [
    "train_data['Item_Visibility_interpolate'].value_counts()\n"
   ]
  },
  {
   "cell_type": "code",
   "execution_count": 107,
   "id": "d54be162-5b29-4cda-b240-08dffd4ae586",
   "metadata": {},
   "outputs": [
    {
     "data": {
      "text/plain": [
       "Item_Visibility_interpolate\n",
       "0.093531    2\n",
       "0.072816    2\n",
       "0.202948    2\n",
       "0.107493    2\n",
       "0.112131    2\n",
       "           ..\n",
       "0.089452    1\n",
       "0.133171    1\n",
       "0.103428    1\n",
       "0.073685    1\n",
       "0.104720    1\n",
       "Name: count, Length: 5629, dtype: int64"
      ]
     },
     "execution_count": 107,
     "metadata": {},
     "output_type": "execute_result"
    }
   ],
   "source": [
    "test_data['Item_Visibility_interpolate'].value_counts()\n"
   ]
  },
  {
   "cell_type": "code",
   "execution_count": 108,
   "id": "72f31089-9f49-4623-b603-99057d3a187e",
   "metadata": {},
   "outputs": [
    {
     "data": {
      "image/png": "[encoded data removed]",
      "text/plain": [
       "<Figure size 640x480 with 1 Axes>"
      ]
     },
     "metadata": {},
     "output_type": "display_data"
    }
   ],
   "source": [
    "train_data['Item_Visibility'].plot(kind=\"kde\",label=\"Original\")\n",
    "\n",
    "train_data['Item_Visibility_interpolate'].plot(kind=\"kde\",color='red',label=\"Interpolate\")\n",
    "\n",
    "plt.legend()\n",
    "plt.show()"
   ]
  },
  {
   "cell_type": "code",
   "execution_count": 109,
   "id": "8b765331-6d9d-4888-a3f1-8ff3b2e4c5c9",
   "metadata": {},
   "outputs": [
    {
     "data": {
      "image/png": "[encoded data removed]",
      "text/plain": [
       "<Figure size 640x480 with 1 Axes>"
      ]
     },
     "metadata": {},
     "output_type": "display_data"
    }
   ],
   "source": [
    "test_data['Item_Visibility'].plot(kind=\"kde\",label=\"Original\")\n",
    "\n",
    "test_data['Item_Visibility_interpolate'].plot(kind=\"kde\",color='red',label=\"Interpolate\")\n",
    "\n",
    "plt.legend()\n",
    "plt.show()"
   ]
  },
  {
   "cell_type": "code",
   "execution_count": 110,
   "id": "d50c3132-fa1d-48b9-b173-9ea736a24446",
   "metadata": {},
   "outputs": [],
   "source": [
    "train_data = train_data.drop('Item_Visibility',axis=1)\n",
    "test_data = test_data.drop('Item_Visibility',axis=1)\n"
   ]
  },
  {
   "cell_type": "code",
   "execution_count": 111,
   "id": "80538be7-f203-4656-aa22-815b4431e06a",
   "metadata": {},
   "outputs": [
    {
     "data": {
      "text/plain": [
       "Item_Type\n",
       "Fruits and Vegetables    1232\n",
       "Snack Foods              1200\n",
       "Household                 910\n",
       "Frozen Foods              856\n",
       "Dairy                     682\n",
       "Canned                    649\n",
       "Baking Goods              648\n",
       "Health and Hygiene        520\n",
       "Soft Drinks               445\n",
       "Meat                      425\n",
       "Breads                    251\n",
       "Hard Drinks               214\n",
       "Others                    169\n",
       "Starchy Foods             148\n",
       "Breakfast                 110\n",
       "Seafood                    64\n",
       "Name: count, dtype: int64"
      ]
     },
     "execution_count": 111,
     "metadata": {},
     "output_type": "execute_result"
    }
   ],
   "source": [
    "#another column \"Item_Type\"\n",
    "train_data['Item_Type'].value_counts()\n"
   ]
  },
  {
   "cell_type": "code",
   "execution_count": 112,
   "id": "e5ad24ca-7c3a-4926-82f0-2ead83ed1150",
   "metadata": {},
   "outputs": [
    {
     "data": {
      "text/plain": [
       "Item_Type\n",
       "Snack Foods              789\n",
       "Fruits and Vegetables    781\n",
       "Household                638\n",
       "Frozen Foods             570\n",
       "Dairy                    454\n",
       "Baking Goods             438\n",
       "Canned                   435\n",
       "Health and Hygiene       338\n",
       "Meat                     311\n",
       "Soft Drinks              281\n",
       "Breads                   165\n",
       "Hard Drinks              148\n",
       "Starchy Foods            121\n",
       "Others                   111\n",
       "Breakfast                 76\n",
       "Seafood                   25\n",
       "Name: count, dtype: int64"
      ]
     },
     "execution_count": 112,
     "metadata": {},
     "output_type": "execute_result"
    }
   ],
   "source": [
    "test_data['Item_Type'].value_counts()\n"
   ]
  },
  {
   "cell_type": "code",
   "execution_count": 113,
   "id": "f3bc304f-3718-4b49-8bdc-a4e648992191",
   "metadata": {},
   "outputs": [
    {
     "data": {
      "text/plain": [
       "Item_Identifier\n",
       "FDA11    5\n",
       "FDV34    5\n",
       "NCX05    8\n",
       "FDN27    4\n",
       "FDQ19    4\n",
       "Name: count, dtype: int64"
      ]
     },
     "execution_count": 113,
     "metadata": {},
     "output_type": "execute_result"
    }
   ],
   "source": [
    "#another column \"Item_Identifier\"\n",
    "train_data['Item_Identifier'].value_counts().sample(5)\n"
   ]
  },
  {
   "cell_type": "code",
   "execution_count": 114,
   "id": "67cbec40-cf8c-4f66-946a-a66cd1e52d52",
   "metadata": {},
   "outputs": [
    {
     "data": {
      "text/plain": [
       "Item_Identifier\n",
       "NCK18    3\n",
       "FDD05    2\n",
       "FDS31    2\n",
       "FDE52    7\n",
       "NCM41    4\n",
       "Name: count, dtype: int64"
      ]
     },
     "execution_count": 114,
     "metadata": {},
     "output_type": "execute_result"
    }
   ],
   "source": [
    "test_data['Item_Identifier'].value_counts().sample(5)\n"
   ]
  },
  {
   "cell_type": "code",
   "execution_count": 115,
   "id": "d22cc386-5428-44d0-9fda-f7b6f7e9af85",
   "metadata": {},
   "outputs": [],
   "source": [
    "train_data['Item_Identifier'] =train_data['Item_Identifier'].apply(lambda x : x[:2])\n",
    "test_data['Item_Identifier'] =test_data['Item_Identifier'].apply(lambda x : x[:2])"
   ]
  },
  {
   "cell_type": "code",
   "execution_count": 116,
   "id": "4eb300e2-8da5-471a-a4a0-ec29cd75066e",
   "metadata": {},
   "outputs": [
    {
     "data": {
      "text/plain": [
       "Item_Identifier\n",
       "FD    6125\n",
       "NC    1599\n",
       "DR     799\n",
       "Name: count, dtype: int64"
      ]
     },
     "execution_count": 116,
     "metadata": {},
     "output_type": "execute_result"
    }
   ],
   "source": [
    "train_data['Item_Identifier'].value_counts()\n"
   ]
  },
  {
   "cell_type": "code",
   "execution_count": 117,
   "id": "9950071c-2eec-46d5-9c54-a6c70ac7eb6b",
   "metadata": {},
   "outputs": [
    {
     "data": {
      "text/plain": [
       "Item_Identifier\n",
       "FD    4076\n",
       "NC    1087\n",
       "DR     518\n",
       "Name: count, dtype: int64"
      ]
     },
     "execution_count": 117,
     "metadata": {},
     "output_type": "execute_result"
    }
   ],
   "source": [
    "test_data['Item_Identifier'].value_counts()\n"
   ]
  },
  {
   "cell_type": "code",
   "execution_count": 118,
   "id": "ada38c78-0524-4872-bc47-f10d2f5cc847",
   "metadata": {},
   "outputs": [],
   "source": [
    "#FD - FOOD\n",
    "#NC - NON-CONSUMABLE\n",
    "#DR - DRINKS"
   ]
  },
  {
   "cell_type": "code",
   "execution_count": 119,
   "id": "880167f1-af09-4dea-ad8a-1d09496f0d29",
   "metadata": {},
   "outputs": [
    {
     "data": {
      "text/plain": [
       "2025"
      ]
     },
     "execution_count": 119,
     "metadata": {},
     "output_type": "execute_result"
    }
   ],
   "source": [
    "#another column \"Outlet_Establishment_Year\"\n",
    "import datetime as dt\n",
    "current_year = dt.datetime.today().year\n",
    "current_year\n"
   ]
  },
  {
   "cell_type": "code",
   "execution_count": 120,
   "id": "ba99c3f4-88b4-4a94-8cca-d16e9197ca91",
   "metadata": {},
   "outputs": [
    {
     "data": {
      "text/plain": [
       "0       26\n",
       "1       16\n",
       "2       26\n",
       "3       27\n",
       "4       38\n",
       "        ..\n",
       "8518    38\n",
       "8519    23\n",
       "8520    21\n",
       "8521    16\n",
       "8522    28\n",
       "Name: Outlet_age, Length: 8523, dtype: int64"
      ]
     },
     "execution_count": 120,
     "metadata": {},
     "output_type": "execute_result"
    }
   ],
   "source": [
    "train_data['Outlet_age']= current_year - train_data['Outlet_Establishment_Year']\n",
    "train_data['Outlet_age']"
   ]
  },
  {
   "cell_type": "code",
   "execution_count": 121,
   "id": "46a725b0-2056-46f8-8f46-fba223659e0f",
   "metadata": {},
   "outputs": [
    {
     "data": {
      "text/plain": [
       "0       26\n",
       "1       18\n",
       "2       27\n",
       "3       18\n",
       "4       40\n",
       "        ..\n",
       "5676    28\n",
       "5677    16\n",
       "5678    23\n",
       "5679    18\n",
       "5680    23\n",
       "Name: Outlet_age, Length: 5681, dtype: int64"
      ]
     },
     "execution_count": 121,
     "metadata": {},
     "output_type": "execute_result"
    }
   ],
   "source": [
    "test_data['Outlet_age']= current_year - test_data['Outlet_Establishment_Year']\n",
    "test_data['Outlet_age']"
   ]
  },
  {
   "cell_type": "code",
   "execution_count": 122,
   "id": "0c6c646e-d19d-4132-baa9-c30d9092a79d",
   "metadata": {},
   "outputs": [],
   "source": [
    "#OUTLET 0 IS 25 YEARS OLD\n",
    "train_data = train_data.drop('Outlet_Establishment_Year',axis=1)\n"
   ]
  },
  {
   "cell_type": "code",
   "execution_count": 123,
   "id": "eb90ea19-6905-4fb7-a2d5-207f6ebbf0dc",
   "metadata": {},
   "outputs": [],
   "source": [
    "test_data = test_data.drop('Outlet_Establishment_Year',axis=1)\n"
   ]
  },
  {
   "cell_type": "code",
   "execution_count": 126,
   "id": "f08cbd44-d2a7-403b-923f-35193e989451",
   "metadata": {},
   "outputs": [
    {
     "data": {
      "text/plain": [
       "Item_Identifier                 object\n",
       "Item_Fat_Content                object\n",
       "Item_Type                       object\n",
       "Item_MRP                       float64\n",
       "Outlet_Identifier               object\n",
       "Outlet_Size                     object\n",
       "Outlet_Location_Type            object\n",
       "Outlet_Type                     object\n",
       "Item_Outlet_Sales              float64\n",
       "Item_Weight_interploate        float64\n",
       "Item_Visibility_interpolate    float64\n",
       "Outlet_age                       int64\n",
       "dtype: object"
      ]
     },
     "execution_count": 126,
     "metadata": {},
     "output_type": "execute_result"
    }
   ],
   "source": [
    "train_data.dtypes"
   ]
  },
  {
   "cell_type": "code",
   "execution_count": 127,
   "id": "a6b78f10-62fc-4f12-9ba5-ea02d0e151de",
   "metadata": {},
   "outputs": [
    {
     "data": {
      "text/plain": [
       "Item_Identifier                 object\n",
       "Item_Fat_Content                object\n",
       "Item_Type                       object\n",
       "Item_MRP                       float64\n",
       "Outlet_Identifier               object\n",
       "Outlet_Size                     object\n",
       "Outlet_Location_Type            object\n",
       "Outlet_Type                     object\n",
       "Item_Weight_interploate        float64\n",
       "Item_Visibility_interpolate    float64\n",
       "Outlet_age                       int64\n",
       "dtype: object"
      ]
     },
     "execution_count": 127,
     "metadata": {},
     "output_type": "execute_result"
    }
   ],
   "source": [
    "test_data.dtypes"
   ]
  },
  {
   "cell_type": "code",
   "execution_count": 128,
   "id": "fcb63329-933c-4d32-a41b-921da517c23c",
   "metadata": {},
   "outputs": [
    {
     "name": "stdout",
     "output_type": "stream",
     "text": [
      "Item_MRP\n",
      "172.0422    7\n",
      "170.5422    6\n",
      "196.5084    6\n",
      "188.1872    6\n",
      "142.0154    6\n",
      "           ..\n",
      "97.3384     1\n",
      "83.1934     1\n",
      "96.6752     1\n",
      "152.6682    1\n",
      "75.4670     1\n",
      "Name: count, Length: 5938, dtype: int64\n"
     ]
    }
   ],
   "source": [
    "print(train_data[\"Item_MRP\"].value_counts())"
   ]
  },
  {
   "cell_type": "code",
   "execution_count": 129,
   "id": "ae824cba-d924-4f4c-af08-f6441ca64cfa",
   "metadata": {},
   "outputs": [
    {
     "data": {
      "text/plain": [
       "Item_Identifier                 object\n",
       "Item_Fat_Content                object\n",
       "Item_Type                       object\n",
       "Item_MRP                       float64\n",
       "Outlet_Identifier               object\n",
       "Outlet_Size                     object\n",
       "Outlet_Location_Type            object\n",
       "Outlet_Type                     object\n",
       "Item_Outlet_Sales              float64\n",
       "Item_Weight_interploate        float64\n",
       "Item_Visibility_interpolate    float64\n",
       "Outlet_age                       int64\n",
       "dtype: object"
      ]
     },
     "execution_count": 129,
     "metadata": {},
     "output_type": "execute_result"
    }
   ],
   "source": [
    "train_data.dtypes"
   ]
  },
  {
   "cell_type": "code",
   "execution_count": 130,
   "id": "3ac25d93-2250-4d78-9898-9b98b3850833",
   "metadata": {},
   "outputs": [
    {
     "data": {
      "text/plain": [
       "Item_Identifier                 object\n",
       "Item_Fat_Content                object\n",
       "Item_Type                       object\n",
       "Item_MRP                       float64\n",
       "Outlet_Identifier               object\n",
       "Outlet_Size                     object\n",
       "Outlet_Location_Type            object\n",
       "Outlet_Type                     object\n",
       "Item_Weight_interploate        float64\n",
       "Item_Visibility_interpolate    float64\n",
       "Outlet_age                       int64\n",
       "dtype: object"
      ]
     },
     "execution_count": 130,
     "metadata": {},
     "output_type": "execute_result"
    }
   ],
   "source": [
    "test_data.dtypes"
   ]
  },
  {
   "cell_type": "code",
   "execution_count": 132,
   "id": "96417f7c-5791-4bc9-a2aa-75798d7e6524",
   "metadata": {},
   "outputs": [
    {
     "name": "stdout",
     "output_type": "stream",
     "text": [
      "[array(['DR', 'FD', 'NC'], dtype=object)]\n",
      "[array(['LF', 'Regular'], dtype=object)]\n",
      "[array(['Baking Goods', 'Breads', 'Breakfast', 'Canned', 'Dairy',\n",
      "       'Frozen Foods', 'Fruits and Vegetables', 'Hard Drinks',\n",
      "       'Health and Hygiene', 'Household', 'Meat', 'Others', 'Seafood',\n",
      "       'Snack Foods', 'Soft Drinks', 'Starchy Foods'], dtype=object)]\n",
      "[array(['OUT010', 'OUT013', 'OUT017', 'OUT018', 'OUT019', 'OUT027',\n",
      "       'OUT035', 'OUT045', 'OUT046', 'OUT049'], dtype=object)]\n",
      "[array(['High', 'Medium', 'Small'], dtype=object)]\n",
      "[array(['Tier 1', 'Tier 2', 'Tier 3'], dtype=object)]\n",
      "[array(['Grocery Store', 'Supermarket Type1', 'Supermarket Type2',\n",
      "       'Supermarket Type3'], dtype=object)]\n"
     ]
    }
   ],
   "source": [
    "\n",
    "from sklearn.preprocessing import OrdinalEncoder\n",
    "\n",
    "train_data_encoded = train_data.copy()\n",
    "\n",
    "cat_cols = train_data.select_dtypes(include=['object','category']).columns\n",
    "\n",
    "for col in cat_cols:\n",
    "    oe = OrdinalEncoder()\n",
    "    train_data_encoded[col]=oe.fit_transform(train_data_encoded[[col]])\n",
    "    print(oe.categories_)\n"
   ]
  },
  {
   "cell_type": "code",
   "execution_count": 133,
   "id": "a5171cf5-2e92-4a6b-a4d2-0e675f3973e7",
   "metadata": {},
   "outputs": [
    {
     "name": "stdout",
     "output_type": "stream",
     "text": [
      "[array(['DR', 'FD', 'NC'], dtype=object)]\n",
      "[array(['LF', 'Regular'], dtype=object)]\n",
      "[array(['Baking Goods', 'Breads', 'Breakfast', 'Canned', 'Dairy',\n",
      "       'Frozen Foods', 'Fruits and Vegetables', 'Hard Drinks',\n",
      "       'Health and Hygiene', 'Household', 'Meat', 'Others', 'Seafood',\n",
      "       'Snack Foods', 'Soft Drinks', 'Starchy Foods'], dtype=object)]\n",
      "[array(['OUT010', 'OUT013', 'OUT017', 'OUT018', 'OUT019', 'OUT027',\n",
      "       'OUT035', 'OUT045', 'OUT046', 'OUT049'], dtype=object)]\n",
      "[array(['High', 'Medium', 'Small'], dtype=object)]\n",
      "[array(['Tier 1', 'Tier 2', 'Tier 3'], dtype=object)]\n",
      "[array(['Grocery Store', 'Supermarket Type1', 'Supermarket Type2',\n",
      "       'Supermarket Type3'], dtype=object)]\n"
     ]
    }
   ],
   "source": [
    "from sklearn.preprocessing import OrdinalEncoder\n",
    "\n",
    "test_data_encoded = test_data.copy()\n",
    "\n",
    "cat_cols = test_data.select_dtypes(include=['object','category']).columns\n",
    "\n",
    "for col in cat_cols:\n",
    "    oe = OrdinalEncoder()\n",
    "    test_data_encoded[col]=oe.fit_transform(test_data_encoded[[col]])\n",
    "    print(oe.categories_)"
   ]
  },
  {
   "cell_type": "code",
   "execution_count": 134,
   "id": "be707cea-6771-427e-bd9c-7a3af4396ed6",
   "metadata": {},
   "outputs": [],
   "source": [
    "from sklearn.preprocessing import OrdinalEncoder\n",
    "\n",
    "train_data_encoded = train_data.copy()\n",
    "\n",
    "cat_cols = train_data.select_dtypes(include=['object', 'category']).columns"
   ]
  },
  {
   "cell_type": "code",
   "execution_count": 135,
   "id": "190d0c15-29f9-4356-a401-2db65d0343bf",
   "metadata": {},
   "outputs": [
    {
     "name": "stdout",
     "output_type": "stream",
     "text": [
      "Column: Item_Identifier\n",
      "DR -> 0\n",
      "FD -> 1\n",
      "NC -> 2\n",
      "\n",
      "\n",
      "Column: Item_Fat_Content\n",
      "LF -> 0\n",
      "Regular -> 1\n",
      "\n",
      "\n",
      "Column: Item_Type\n",
      "Baking Goods -> 0\n",
      "Breads -> 1\n",
      "Breakfast -> 2\n",
      "Canned -> 3\n",
      "Dairy -> 4\n",
      "Frozen Foods -> 5\n",
      "Fruits and Vegetables -> 6\n",
      "Hard Drinks -> 7\n",
      "Health and Hygiene -> 8\n",
      "Household -> 9\n",
      "Meat -> 10\n",
      "Others -> 11\n",
      "Seafood -> 12\n",
      "Snack Foods -> 13\n",
      "Soft Drinks -> 14\n",
      "Starchy Foods -> 15\n",
      "\n",
      "\n",
      "Column: Outlet_Identifier\n",
      "OUT010 -> 0\n",
      "OUT013 -> 1\n",
      "OUT017 -> 2\n",
      "OUT018 -> 3\n",
      "OUT019 -> 4\n",
      "OUT027 -> 5\n",
      "OUT035 -> 6\n",
      "OUT045 -> 7\n",
      "OUT046 -> 8\n",
      "OUT049 -> 9\n",
      "\n",
      "\n",
      "Column: Outlet_Size\n",
      "High -> 0\n",
      "Medium -> 1\n",
      "Small -> 2\n",
      "\n",
      "\n",
      "Column: Outlet_Location_Type\n",
      "Tier 1 -> 0\n",
      "Tier 2 -> 1\n",
      "Tier 3 -> 2\n",
      "\n",
      "\n",
      "Column: Outlet_Type\n",
      "Grocery Store -> 0\n",
      "Supermarket Type1 -> 1\n",
      "Supermarket Type2 -> 2\n",
      "Supermarket Type3 -> 3\n",
      "\n",
      "\n"
     ]
    }
   ],
   "source": [
    "for col in cat_cols:\n",
    "    oe = OrdinalEncoder()\n",
    "    \n",
    "    # Fit and transform the column\n",
    "    train_data_encoded[col] = oe.fit_transform(train_data_encoded[[col]])\n",
    "\n",
    "    # Print the original categories and their assigned values\n",
    "    print(f\"Column: {col}\")\n",
    "    for i, category in enumerate(oe.categories_[0]):\n",
    "        print(f\"{category} -> {i}\")\n",
    "    print(\"\\n\")  # New line for readability"
   ]
  },
  {
   "cell_type": "code",
   "execution_count": 136,
   "id": "27b90272-7071-4ffa-8bdd-e573bdc2a3a8",
   "metadata": {},
   "outputs": [
    {
     "data": {
      "text/plain": [
       "Item_Identifier                float64\n",
       "Item_Fat_Content               float64\n",
       "Item_Type                      float64\n",
       "Item_MRP                       float64\n",
       "Outlet_Identifier              float64\n",
       "Outlet_Size                    float64\n",
       "Outlet_Location_Type           float64\n",
       "Outlet_Type                    float64\n",
       "Item_Outlet_Sales              float64\n",
       "Item_Weight_interploate        float64\n",
       "Item_Visibility_interpolate    float64\n",
       "Outlet_age                       int64\n",
       "dtype: object"
      ]
     },
     "execution_count": 136,
     "metadata": {},
     "output_type": "execute_result"
    }
   ],
   "source": [
    "train_data_encoded.dtypes"
   ]
  },
  {
   "cell_type": "code",
   "execution_count": 137,
   "id": "5aa06e87-ac96-49f0-92ac-79a4560814e5",
   "metadata": {},
   "outputs": [
    {
     "data": {
      "text/plain": [
       "Item_Identifier                float64\n",
       "Item_Fat_Content               float64\n",
       "Item_Type                      float64\n",
       "Item_MRP                       float64\n",
       "Outlet_Identifier              float64\n",
       "Outlet_Size                    float64\n",
       "Outlet_Location_Type           float64\n",
       "Outlet_Type                    float64\n",
       "Item_Weight_interploate        float64\n",
       "Item_Visibility_interpolate    float64\n",
       "Outlet_age                       int64\n",
       "dtype: object"
      ]
     },
     "execution_count": 137,
     "metadata": {},
     "output_type": "execute_result"
    }
   ],
   "source": [
    "test_data_encoded.dtypes"
   ]
  },
  {
   "cell_type": "code",
   "execution_count": 138,
   "id": "3b9bf144-3b58-454f-be50-8f1b5e044e56",
   "metadata": {},
   "outputs": [
    {
     "data": {
      "text/html": [
       "<div>\n",
       "<style scoped>\n",
       "    .dataframe tbody tr th:only-of-type {\n",
       "        vertical-align: middle;\n",
       "    }\n",
       "\n",
       "    .dataframe tbody tr th {\n",
       "        vertical-align: top;\n",
       "    }\n",
       "\n",
       "    .dataframe thead th {\n",
       "        text-align: right;\n",
       "    }\n",
       "</style>\n",
       "<table border=\"1\" class=\"dataframe\">\n",
       "  <thead>\n",
       "    <tr style=\"text-align: right;\">\n",
       "      <th></th>\n",
       "      <th>Item_Identifier</th>\n",
       "      <th>Item_Fat_Content</th>\n",
       "      <th>Item_Type</th>\n",
       "      <th>Item_MRP</th>\n",
       "      <th>Outlet_Identifier</th>\n",
       "      <th>Outlet_Size</th>\n",
       "      <th>Outlet_Location_Type</th>\n",
       "      <th>Outlet_Type</th>\n",
       "      <th>Item_Outlet_Sales</th>\n",
       "      <th>Item_Weight_interploate</th>\n",
       "      <th>Item_Visibility_interpolate</th>\n",
       "      <th>Outlet_age</th>\n",
       "    </tr>\n",
       "  </thead>\n",
       "  <tbody>\n",
       "    <tr>\n",
       "      <th>Item_Identifier</th>\n",
       "      <td>1.000000</td>\n",
       "      <td>-0.166111</td>\n",
       "      <td>0.007456</td>\n",
       "      <td>0.032517</td>\n",
       "      <td>-0.009730</td>\n",
       "      <td>-0.000624</td>\n",
       "      <td>0.007661</td>\n",
       "      <td>0.001136</td>\n",
       "      <td>0.011236</td>\n",
       "      <td>0.056939</td>\n",
       "      <td>-0.046347</td>\n",
       "      <td>0.008551</td>\n",
       "    </tr>\n",
       "    <tr>\n",
       "      <th>Item_Fat_Content</th>\n",
       "      <td>-0.166111</td>\n",
       "      <td>1.000000</td>\n",
       "      <td>-0.139434</td>\n",
       "      <td>0.006063</td>\n",
       "      <td>0.000764</td>\n",
       "      <td>-0.000622</td>\n",
       "      <td>-0.001598</td>\n",
       "      <td>0.002199</td>\n",
       "      <td>0.018719</td>\n",
       "      <td>-0.015030</td>\n",
       "      <td>0.048694</td>\n",
       "      <td>-0.003151</td>\n",
       "    </tr>\n",
       "    <tr>\n",
       "      <th>Item_Type</th>\n",
       "      <td>0.007456</td>\n",
       "      <td>-0.139434</td>\n",
       "      <td>1.000000</td>\n",
       "      <td>0.032651</td>\n",
       "      <td>0.001656</td>\n",
       "      <td>-0.001859</td>\n",
       "      <td>0.003084</td>\n",
       "      <td>0.003053</td>\n",
       "      <td>0.017048</td>\n",
       "      <td>0.028262</td>\n",
       "      <td>-0.033981</td>\n",
       "      <td>-0.004970</td>\n",
       "    </tr>\n",
       "    <tr>\n",
       "      <th>Item_MRP</th>\n",
       "      <td>0.032517</td>\n",
       "      <td>0.006063</td>\n",
       "      <td>0.032651</td>\n",
       "      <td>1.000000</td>\n",
       "      <td>0.003319</td>\n",
       "      <td>0.006059</td>\n",
       "      <td>0.000232</td>\n",
       "      <td>-0.001975</td>\n",
       "      <td>0.567574</td>\n",
       "      <td>0.024839</td>\n",
       "      <td>-0.006544</td>\n",
       "      <td>-0.005020</td>\n",
       "    </tr>\n",
       "    <tr>\n",
       "      <th>Outlet_Identifier</th>\n",
       "      <td>-0.009730</td>\n",
       "      <td>0.000764</td>\n",
       "      <td>0.001656</td>\n",
       "      <td>0.003319</td>\n",
       "      <td>1.000000</td>\n",
       "      <td>0.504603</td>\n",
       "      <td>-0.716176</td>\n",
       "      <td>0.099873</td>\n",
       "      <td>0.162325</td>\n",
       "      <td>-0.006937</td>\n",
       "      <td>-0.102528</td>\n",
       "      <td>-0.079035</td>\n",
       "    </tr>\n",
       "    <tr>\n",
       "      <th>Outlet_Size</th>\n",
       "      <td>-0.000624</td>\n",
       "      <td>-0.000622</td>\n",
       "      <td>-0.001859</td>\n",
       "      <td>0.006059</td>\n",
       "      <td>0.504603</td>\n",
       "      <td>1.000000</td>\n",
       "      <td>-0.614311</td>\n",
       "      <td>-0.201483</td>\n",
       "      <td>-0.086182</td>\n",
       "      <td>-0.010973</td>\n",
       "      <td>0.073277</td>\n",
       "      <td>-0.193389</td>\n",
       "    </tr>\n",
       "    <tr>\n",
       "      <th>Outlet_Location_Type</th>\n",
       "      <td>0.007661</td>\n",
       "      <td>-0.001598</td>\n",
       "      <td>0.003084</td>\n",
       "      <td>0.000232</td>\n",
       "      <td>-0.716176</td>\n",
       "      <td>-0.614311</td>\n",
       "      <td>1.000000</td>\n",
       "      <td>0.467219</td>\n",
       "      <td>0.089367</td>\n",
       "      <td>0.005960</td>\n",
       "      <td>-0.030813</td>\n",
       "      <td>0.089216</td>\n",
       "    </tr>\n",
       "    <tr>\n",
       "      <th>Outlet_Type</th>\n",
       "      <td>0.001136</td>\n",
       "      <td>0.002199</td>\n",
       "      <td>0.003053</td>\n",
       "      <td>-0.001975</td>\n",
       "      <td>0.099873</td>\n",
       "      <td>-0.201483</td>\n",
       "      <td>0.467219</td>\n",
       "      <td>1.000000</td>\n",
       "      <td>0.401522</td>\n",
       "      <td>-0.000858</td>\n",
       "      <td>-0.179788</td>\n",
       "      <td>0.122304</td>\n",
       "    </tr>\n",
       "    <tr>\n",
       "      <th>Item_Outlet_Sales</th>\n",
       "      <td>0.011236</td>\n",
       "      <td>0.018719</td>\n",
       "      <td>0.017048</td>\n",
       "      <td>0.567574</td>\n",
       "      <td>0.162325</td>\n",
       "      <td>-0.086182</td>\n",
       "      <td>0.089367</td>\n",
       "      <td>0.401522</td>\n",
       "      <td>1.000000</td>\n",
       "      <td>0.014536</td>\n",
       "      <td>-0.133874</td>\n",
       "      <td>0.049135</td>\n",
       "    </tr>\n",
       "    <tr>\n",
       "      <th>Item_Weight_interploate</th>\n",
       "      <td>0.056939</td>\n",
       "      <td>-0.015030</td>\n",
       "      <td>0.028262</td>\n",
       "      <td>0.024839</td>\n",
       "      <td>-0.006937</td>\n",
       "      <td>-0.010973</td>\n",
       "      <td>0.005960</td>\n",
       "      <td>-0.000858</td>\n",
       "      <td>0.014536</td>\n",
       "      <td>1.000000</td>\n",
       "      <td>-0.012096</td>\n",
       "      <td>-0.001220</td>\n",
       "    </tr>\n",
       "    <tr>\n",
       "      <th>Item_Visibility_interpolate</th>\n",
       "      <td>-0.046347</td>\n",
       "      <td>0.048694</td>\n",
       "      <td>-0.033981</td>\n",
       "      <td>-0.006544</td>\n",
       "      <td>-0.102528</td>\n",
       "      <td>0.073277</td>\n",
       "      <td>-0.030813</td>\n",
       "      <td>-0.179788</td>\n",
       "      <td>-0.133874</td>\n",
       "      <td>-0.012096</td>\n",
       "      <td>1.000000</td>\n",
       "      <td>0.077071</td>\n",
       "    </tr>\n",
       "    <tr>\n",
       "      <th>Outlet_age</th>\n",
       "      <td>0.008551</td>\n",
       "      <td>-0.003151</td>\n",
       "      <td>-0.004970</td>\n",
       "      <td>-0.005020</td>\n",
       "      <td>-0.079035</td>\n",
       "      <td>-0.193389</td>\n",
       "      <td>0.089216</td>\n",
       "      <td>0.122304</td>\n",
       "      <td>0.049135</td>\n",
       "      <td>-0.001220</td>\n",
       "      <td>0.077071</td>\n",
       "      <td>1.000000</td>\n",
       "    </tr>\n",
       "  </tbody>\n",
       "</table>\n",
       "</div>"
      ],
      "text/plain": [
       "                             Item_Identifier  Item_Fat_Content  Item_Type  \\\n",
       "Item_Identifier                     1.000000         -0.166111   0.007456   \n",
       "Item_Fat_Content                   -0.166111          1.000000  -0.139434   \n",
       "Item_Type                           0.007456         -0.139434   1.000000   \n",
       "Item_MRP                            0.032517          0.006063   0.032651   \n",
       "Outlet_Identifier                  -0.009730          0.000764   0.001656   \n",
       "Outlet_Size                        -0.000624         -0.000622  -0.001859   \n",
       "Outlet_Location_Type                0.007661         -0.001598   0.003084   \n",
       "Outlet_Type                         0.001136          0.002199   0.003053   \n",
       "Item_Outlet_Sales                   0.011236          0.018719   0.017048   \n",
       "Item_Weight_interploate             0.056939         -0.015030   0.028262   \n",
       "Item_Visibility_interpolate        -0.046347          0.048694  -0.033981   \n",
       "Outlet_age                          0.008551         -0.003151  -0.004970   \n",
       "\n",
       "                             Item_MRP  Outlet_Identifier  Outlet_Size  \\\n",
       "Item_Identifier              0.032517          -0.009730    -0.000624   \n",
       "Item_Fat_Content             0.006063           0.000764    -0.000622   \n",
       "Item_Type                    0.032651           0.001656    -0.001859   \n",
       "Item_MRP                     1.000000           0.003319     0.006059   \n",
       "Outlet_Identifier            0.003319           1.000000     0.504603   \n",
       "Outlet_Size                  0.006059           0.504603     1.000000   \n",
       "Outlet_Location_Type         0.000232          -0.716176    -0.614311   \n",
       "Outlet_Type                 -0.001975           0.099873    -0.201483   \n",
       "Item_Outlet_Sales            0.567574           0.162325    -0.086182   \n",
       "Item_Weight_interploate      0.024839          -0.006937    -0.010973   \n",
       "Item_Visibility_interpolate -0.006544          -0.102528     0.073277   \n",
       "Outlet_age                  -0.005020          -0.079035    -0.193389   \n",
       "\n",
       "                             Outlet_Location_Type  Outlet_Type  \\\n",
       "Item_Identifier                          0.007661     0.001136   \n",
       "Item_Fat_Content                        -0.001598     0.002199   \n",
       "Item_Type                                0.003084     0.003053   \n",
       "Item_MRP                                 0.000232    -0.001975   \n",
       "Outlet_Identifier                       -0.716176     0.099873   \n",
       "Outlet_Size                             -0.614311    -0.201483   \n",
       "Outlet_Location_Type                     1.000000     0.467219   \n",
       "Outlet_Type                              0.467219     1.000000   \n",
       "Item_Outlet_Sales                        0.089367     0.401522   \n",
       "Item_Weight_interploate                  0.005960    -0.000858   \n",
       "Item_Visibility_interpolate             -0.030813    -0.179788   \n",
       "Outlet_age                               0.089216     0.122304   \n",
       "\n",
       "                             Item_Outlet_Sales  Item_Weight_interploate  \\\n",
       "Item_Identifier                       0.011236                 0.056939   \n",
       "Item_Fat_Content                      0.018719                -0.015030   \n",
       "Item_Type                             0.017048                 0.028262   \n",
       "Item_MRP                              0.567574                 0.024839   \n",
       "Outlet_Identifier                     0.162325                -0.006937   \n",
       "Outlet_Size                          -0.086182                -0.010973   \n",
       "Outlet_Location_Type                  0.089367                 0.005960   \n",
       "Outlet_Type                           0.401522                -0.000858   \n",
       "Item_Outlet_Sales                     1.000000                 0.014536   \n",
       "Item_Weight_interploate               0.014536                 1.000000   \n",
       "Item_Visibility_interpolate          -0.133874                -0.012096   \n",
       "Outlet_age                            0.049135                -0.001220   \n",
       "\n",
       "                             Item_Visibility_interpolate  Outlet_age  \n",
       "Item_Identifier                                -0.046347    0.008551  \n",
       "Item_Fat_Content                                0.048694   -0.003151  \n",
       "Item_Type                                      -0.033981   -0.004970  \n",
       "Item_MRP                                       -0.006544   -0.005020  \n",
       "Outlet_Identifier                              -0.102528   -0.079035  \n",
       "Outlet_Size                                     0.073277   -0.193389  \n",
       "Outlet_Location_Type                           -0.030813    0.089216  \n",
       "Outlet_Type                                    -0.179788    0.122304  \n",
       "Item_Outlet_Sales                              -0.133874    0.049135  \n",
       "Item_Weight_interploate                        -0.012096   -0.001220  \n",
       "Item_Visibility_interpolate                     1.000000    0.077071  \n",
       "Outlet_age                                      0.077071    1.000000  "
      ]
     },
     "execution_count": 138,
     "metadata": {},
     "output_type": "execute_result"
    }
   ],
   "source": [
    "train_data_encoded.corr(numeric_only = True)"
   ]
  },
  {
   "cell_type": "code",
   "execution_count": 139,
   "id": "6ecfe8fd-cd1d-4636-a454-c7538f8d672a",
   "metadata": {},
   "outputs": [
    {
     "name": "stdout",
     "output_type": "stream",
     "text": [
      "   Item_Weight_interploate  Item_Visibility_interpolate  Item_MRP\n",
      "0                 0.282525                     0.038399  0.927507\n",
      "1                 0.081274                     0.048346  0.072068\n",
      "2                 0.770765                     0.040593  0.468288\n",
      "3                 0.871986                     0.037500  0.640093\n",
      "4                 0.260494                     0.034407  0.095805\n"
     ]
    }
   ],
   "source": [
    "#Min-Max scaling transforms the values to a range of [0, 1].\n",
    "from sklearn.preprocessing import MinMaxScaler\n",
    "import pandas as pd\n",
    "\n",
    "\n",
    "scaler = MinMaxScaler()\n",
    "\n",
    "# Applying Min-Max Scaling on  columns\n",
    "train_data_encoded[['Item_Weight_interploate', 'Item_Visibility_interpolate', 'Item_MRP']] = scaler.fit_transform(train_data_encoded[['Item_Weight_interploate', 'Item_Visibility_interpolate', 'Item_MRP']])\n",
    "\n",
    "print(train_data_encoded[['Item_Weight_interploate', 'Item_Visibility_interpolate', 'Item_MRP']].head())\n"
   ]
  },
  {
   "cell_type": "code",
   "execution_count": 142,
   "id": "60f93c77-ed8f-4004-8dd3-e126b0adaca4",
   "metadata": {},
   "outputs": [],
   "source": [
    "#Since We are dealing with continuos target variable\n",
    "#This makes it a Regression Problem"
   ]
  },
  {
   "cell_type": "code",
   "execution_count": 143,
   "id": "b3c1323e-004c-4d32-995d-beabfea8fdac",
   "metadata": {},
   "outputs": [
    {
     "data": {
      "text/plain": [
       "Item_Identifier                float64\n",
       "Item_Fat_Content               float64\n",
       "Item_Type                      float64\n",
       "Item_MRP                       float64\n",
       "Outlet_Identifier              float64\n",
       "Outlet_Size                    float64\n",
       "Outlet_Location_Type           float64\n",
       "Outlet_Type                    float64\n",
       "Item_Outlet_Sales              float64\n",
       "Item_Weight_interploate        float64\n",
       "Item_Visibility_interpolate    float64\n",
       "Outlet_age                       int64\n",
       "dtype: object"
      ]
     },
     "execution_count": 143,
     "metadata": {},
     "output_type": "execute_result"
    }
   ],
   "source": [
    "train_data_encoded.dtypes"
   ]
  },
  {
   "cell_type": "code",
   "execution_count": 144,
   "id": "af94c759-8349-4c63-82b9-7f105cf57379",
   "metadata": {},
   "outputs": [
    {
     "data": {
      "text/plain": [
       "Item_Identifier                float64\n",
       "Item_Fat_Content               float64\n",
       "Item_Type                      float64\n",
       "Item_MRP                       float64\n",
       "Outlet_Identifier              float64\n",
       "Outlet_Size                    float64\n",
       "Outlet_Location_Type           float64\n",
       "Outlet_Type                    float64\n",
       "Item_Weight_interploate        float64\n",
       "Item_Visibility_interpolate    float64\n",
       "Outlet_age                       int64\n",
       "dtype: object"
      ]
     },
     "execution_count": 144,
     "metadata": {},
     "output_type": "execute_result"
    }
   ],
   "source": [
    "test_data_encoded.dtypes"
   ]
  },
  {
   "cell_type": "code",
   "execution_count": 145,
   "id": "fbae0160-3429-423a-9756-f18e87c3e7b1",
   "metadata": {},
   "outputs": [
    {
     "data": {
      "text/html": [
       "<div>\n",
       "<style scoped>\n",
       "    .dataframe tbody tr th:only-of-type {\n",
       "        vertical-align: middle;\n",
       "    }\n",
       "\n",
       "    .dataframe tbody tr th {\n",
       "        vertical-align: top;\n",
       "    }\n",
       "\n",
       "    .dataframe thead th {\n",
       "        text-align: right;\n",
       "    }\n",
       "</style>\n",
       "<table border=\"1\" class=\"dataframe\">\n",
       "  <thead>\n",
       "    <tr style=\"text-align: right;\">\n",
       "      <th></th>\n",
       "      <th>Item_Identifier</th>\n",
       "      <th>Item_Fat_Content</th>\n",
       "      <th>Item_Type</th>\n",
       "      <th>Item_MRP</th>\n",
       "      <th>Outlet_Identifier</th>\n",
       "      <th>Outlet_Size</th>\n",
       "      <th>Outlet_Location_Type</th>\n",
       "      <th>Outlet_Type</th>\n",
       "      <th>Item_Weight_interploate</th>\n",
       "      <th>Item_Visibility_interpolate</th>\n",
       "      <th>Outlet_age</th>\n",
       "    </tr>\n",
       "  </thead>\n",
       "  <tbody>\n",
       "    <tr>\n",
       "      <th>0</th>\n",
       "      <td>1.0</td>\n",
       "      <td>0.0</td>\n",
       "      <td>4.0</td>\n",
       "      <td>0.927507</td>\n",
       "      <td>9.0</td>\n",
       "      <td>1.0</td>\n",
       "      <td>0.0</td>\n",
       "      <td>1.0</td>\n",
       "      <td>0.282525</td>\n",
       "      <td>0.038399</td>\n",
       "      <td>26</td>\n",
       "    </tr>\n",
       "    <tr>\n",
       "      <th>1</th>\n",
       "      <td>0.0</td>\n",
       "      <td>1.0</td>\n",
       "      <td>14.0</td>\n",
       "      <td>0.072068</td>\n",
       "      <td>3.0</td>\n",
       "      <td>1.0</td>\n",
       "      <td>2.0</td>\n",
       "      <td>2.0</td>\n",
       "      <td>0.081274</td>\n",
       "      <td>0.048346</td>\n",
       "      <td>16</td>\n",
       "    </tr>\n",
       "    <tr>\n",
       "      <th>2</th>\n",
       "      <td>1.0</td>\n",
       "      <td>0.0</td>\n",
       "      <td>10.0</td>\n",
       "      <td>0.468288</td>\n",
       "      <td>9.0</td>\n",
       "      <td>1.0</td>\n",
       "      <td>0.0</td>\n",
       "      <td>1.0</td>\n",
       "      <td>0.770765</td>\n",
       "      <td>0.040593</td>\n",
       "      <td>26</td>\n",
       "    </tr>\n",
       "    <tr>\n",
       "      <th>3</th>\n",
       "      <td>1.0</td>\n",
       "      <td>1.0</td>\n",
       "      <td>6.0</td>\n",
       "      <td>0.640093</td>\n",
       "      <td>0.0</td>\n",
       "      <td>1.0</td>\n",
       "      <td>2.0</td>\n",
       "      <td>0.0</td>\n",
       "      <td>0.871986</td>\n",
       "      <td>0.037500</td>\n",
       "      <td>27</td>\n",
       "    </tr>\n",
       "    <tr>\n",
       "      <th>4</th>\n",
       "      <td>2.0</td>\n",
       "      <td>0.0</td>\n",
       "      <td>9.0</td>\n",
       "      <td>0.095805</td>\n",
       "      <td>1.0</td>\n",
       "      <td>0.0</td>\n",
       "      <td>2.0</td>\n",
       "      <td>1.0</td>\n",
       "      <td>0.260494</td>\n",
       "      <td>0.034407</td>\n",
       "      <td>38</td>\n",
       "    </tr>\n",
       "    <tr>\n",
       "      <th>...</th>\n",
       "      <td>...</td>\n",
       "      <td>...</td>\n",
       "      <td>...</td>\n",
       "      <td>...</td>\n",
       "      <td>...</td>\n",
       "      <td>...</td>\n",
       "      <td>...</td>\n",
       "      <td>...</td>\n",
       "      <td>...</td>\n",
       "      <td>...</td>\n",
       "      <td>...</td>\n",
       "    </tr>\n",
       "    <tr>\n",
       "      <th>8518</th>\n",
       "      <td>1.0</td>\n",
       "      <td>0.0</td>\n",
       "      <td>13.0</td>\n",
       "      <td>0.777729</td>\n",
       "      <td>1.0</td>\n",
       "      <td>0.0</td>\n",
       "      <td>2.0</td>\n",
       "      <td>1.0</td>\n",
       "      <td>0.137541</td>\n",
       "      <td>0.163812</td>\n",
       "      <td>38</td>\n",
       "    </tr>\n",
       "    <tr>\n",
       "      <th>8519</th>\n",
       "      <td>1.0</td>\n",
       "      <td>1.0</td>\n",
       "      <td>0.0</td>\n",
       "      <td>0.326263</td>\n",
       "      <td>7.0</td>\n",
       "      <td>1.0</td>\n",
       "      <td>1.0</td>\n",
       "      <td>1.0</td>\n",
       "      <td>0.227746</td>\n",
       "      <td>0.133638</td>\n",
       "      <td>23</td>\n",
       "    </tr>\n",
       "    <tr>\n",
       "      <th>8520</th>\n",
       "      <td>2.0</td>\n",
       "      <td>0.0</td>\n",
       "      <td>8.0</td>\n",
       "      <td>0.228492</td>\n",
       "      <td>6.0</td>\n",
       "      <td>2.0</td>\n",
       "      <td>1.0</td>\n",
       "      <td>1.0</td>\n",
       "      <td>0.359929</td>\n",
       "      <td>0.097321</td>\n",
       "      <td>21</td>\n",
       "    </tr>\n",
       "    <tr>\n",
       "      <th>8521</th>\n",
       "      <td>1.0</td>\n",
       "      <td>1.0</td>\n",
       "      <td>13.0</td>\n",
       "      <td>0.304939</td>\n",
       "      <td>3.0</td>\n",
       "      <td>1.0</td>\n",
       "      <td>2.0</td>\n",
       "      <td>2.0</td>\n",
       "      <td>0.158083</td>\n",
       "      <td>0.436080</td>\n",
       "      <td>16</td>\n",
       "    </tr>\n",
       "    <tr>\n",
       "      <th>8522</th>\n",
       "      <td>0.0</td>\n",
       "      <td>0.0</td>\n",
       "      <td>14.0</td>\n",
       "      <td>0.187510</td>\n",
       "      <td>8.0</td>\n",
       "      <td>2.0</td>\n",
       "      <td>0.0</td>\n",
       "      <td>1.0</td>\n",
       "      <td>0.610003</td>\n",
       "      <td>0.127160</td>\n",
       "      <td>28</td>\n",
       "    </tr>\n",
       "  </tbody>\n",
       "</table>\n",
       "<p>8523 rows × 11 columns</p>\n",
       "</div>"
      ],
      "text/plain": [
       "      Item_Identifier  Item_Fat_Content  Item_Type  Item_MRP  \\\n",
       "0                 1.0               0.0        4.0  0.927507   \n",
       "1                 0.0               1.0       14.0  0.072068   \n",
       "2                 1.0               0.0       10.0  0.468288   \n",
       "3                 1.0               1.0        6.0  0.640093   \n",
       "4                 2.0               0.0        9.0  0.095805   \n",
       "...               ...               ...        ...       ...   \n",
       "8518              1.0               0.0       13.0  0.777729   \n",
       "8519              1.0               1.0        0.0  0.326263   \n",
       "8520              2.0               0.0        8.0  0.228492   \n",
       "8521              1.0               1.0       13.0  0.304939   \n",
       "8522              0.0               0.0       14.0  0.187510   \n",
       "\n",
       "      Outlet_Identifier  Outlet_Size  Outlet_Location_Type  Outlet_Type  \\\n",
       "0                   9.0          1.0                   0.0          1.0   \n",
       "1                   3.0          1.0                   2.0          2.0   \n",
       "2                   9.0          1.0                   0.0          1.0   \n",
       "3                   0.0          1.0                   2.0          0.0   \n",
       "4                   1.0          0.0                   2.0          1.0   \n",
       "...                 ...          ...                   ...          ...   \n",
       "8518                1.0          0.0                   2.0          1.0   \n",
       "8519                7.0          1.0                   1.0          1.0   \n",
       "8520                6.0          2.0                   1.0          1.0   \n",
       "8521                3.0          1.0                   2.0          2.0   \n",
       "8522                8.0          2.0                   0.0          1.0   \n",
       "\n",
       "      Item_Weight_interploate  Item_Visibility_interpolate  Outlet_age  \n",
       "0                    0.282525                     0.038399          26  \n",
       "1                    0.081274                     0.048346          16  \n",
       "2                    0.770765                     0.040593          26  \n",
       "3                    0.871986                     0.037500          27  \n",
       "4                    0.260494                     0.034407          38  \n",
       "...                       ...                          ...         ...  \n",
       "8518                 0.137541                     0.163812          38  \n",
       "8519                 0.227746                     0.133638          23  \n",
       "8520                 0.359929                     0.097321          21  \n",
       "8521                 0.158083                     0.436080          16  \n",
       "8522                 0.610003                     0.127160          28  \n",
       "\n",
       "[8523 rows x 11 columns]"
      ]
     },
     "execution_count": 145,
     "metadata": {},
     "output_type": "execute_result"
    }
   ],
   "source": [
    "X=train_data_encoded.drop('Item_Outlet_Sales',axis=1)\n",
    "X"
   ]
  },
  {
   "cell_type": "code",
   "execution_count": 146,
   "id": "142158a3-ffee-43ed-bdcc-4c573fccb2a9",
   "metadata": {},
   "outputs": [
    {
     "data": {
      "text/plain": [
       "0       3735.1380\n",
       "1        443.4228\n",
       "2       2097.2700\n",
       "3        732.3800\n",
       "4        994.7052\n",
       "          ...    \n",
       "8518    2778.3834\n",
       "8519     549.2850\n",
       "8520    1193.1136\n",
       "8521    1845.5976\n",
       "8522     765.6700\n",
       "Name: Item_Outlet_Sales, Length: 8523, dtype: float64"
      ]
     },
     "execution_count": 146,
     "metadata": {},
     "output_type": "execute_result"
    }
   ],
   "source": [
    "Y=train_data_encoded['Item_Outlet_Sales']\n",
    "Y"
   ]
  },
  {
   "cell_type": "code",
   "execution_count": 147,
   "id": "a43c3e04-0ddb-471a-a347-fd75804c2edd",
   "metadata": {},
   "outputs": [],
   "source": [
    "from sklearn.model_selection import train_test_split\n",
    "X_train, X_test, Y_train, Y_test = train_test_split(X,Y, random_state=101, test_size=0.2)\n",
    "#20% of the data will be used for testing, and the remaining 80% will be used for training.\n"
   ]
  },
  {
   "cell_type": "code",
   "execution_count": 148,
   "id": "5b5e932c-c377-4e07-8f3b-8f76fb38d808",
   "metadata": {},
   "outputs": [],
   "source": [
    "# used to transform the data so that each feature has a mean of 0 and a standard deviation of 1\n",
    "from sklearn.preprocessing import StandardScaler\n",
    "sc= StandardScaler()"
   ]
  },
  {
   "cell_type": "code",
   "execution_count": 151,
   "id": "a31a5f2f-1b5d-40eb-94db-59e129e7ff05",
   "metadata": {},
   "outputs": [],
   "source": [
    "X_train_std= sc.fit_transform(X_train)\n"
   ]
  },
  {
   "cell_type": "code",
   "execution_count": 152,
   "id": "0ec15da1-49aa-4273-b675-2574fe29abdb",
   "metadata": {},
   "outputs": [],
   "source": [
    "X_test_std= sc.transform(X_test)\n"
   ]
  },
  {
   "cell_type": "code",
   "execution_count": 167,
   "id": "93ec4806-557c-452c-9fd1-1152767de0f8",
   "metadata": {},
   "outputs": [
    {
     "name": "stdout",
     "output_type": "stream",
     "text": [
      "Epoch 1/50\n",
      "192/192 [==============================] - 2s 4ms/step - loss: 7483276.0000 - mae: 2134.3584 - val_loss: 5816659.5000 - val_mae: 1784.3893\n",
      "Epoch 2/50\n",
      "192/192 [==============================] - 1s 4ms/step - loss: 2791133.0000 - mae: 1174.2703 - val_loss: 1430612.8750 - val_mae: 915.0707\n",
      "Epoch 3/50\n",
      "192/192 [==============================] - 1s 3ms/step - loss: 1473458.2500 - mae: 910.4578 - val_loss: 1304622.2500 - val_mae: 851.4990\n",
      "Epoch 4/50\n",
      "192/192 [==============================] - 1s 3ms/step - loss: 1408131.5000 - mae: 875.2466 - val_loss: 1273982.3750 - val_mae: 827.8967\n",
      "Epoch 5/50\n",
      "192/192 [==============================] - 1s 3ms/step - loss: 1379028.5000 - mae: 858.1187 - val_loss: 1246217.3750 - val_mae: 818.0711\n",
      "Epoch 6/50\n",
      "192/192 [==============================] - 1s 3ms/step - loss: 1355169.1250 - mae: 847.2420 - val_loss: 1230145.7500 - val_mae: 809.0289\n",
      "Epoch 7/50\n",
      "192/192 [==============================] - 1s 3ms/step - loss: 1335076.5000 - mae: 839.7858 - val_loss: 1215894.1250 - val_mae: 800.0471\n",
      "Epoch 8/50\n",
      "192/192 [==============================] - 1s 3ms/step - loss: 1323467.8750 - mae: 833.8988 - val_loss: 1202015.2500 - val_mae: 794.0432\n",
      "Epoch 9/50\n",
      "192/192 [==============================] - 1s 3ms/step - loss: 1309044.1250 - mae: 828.0107 - val_loss: 1194869.8750 - val_mae: 787.2776\n",
      "Epoch 10/50\n",
      "192/192 [==============================] - 1s 3ms/step - loss: 1298868.8750 - mae: 821.9987 - val_loss: 1180520.2500 - val_mae: 788.3156\n",
      "Epoch 11/50\n",
      "192/192 [==============================] - 1s 3ms/step - loss: 1288382.5000 - mae: 820.0603 - val_loss: 1188335.2500 - val_mae: 780.3816\n",
      "Epoch 12/50\n",
      "192/192 [==============================] - 1s 3ms/step - loss: 1283631.7500 - mae: 814.7606 - val_loss: 1167598.7500 - val_mae: 779.8001\n",
      "Epoch 13/50\n",
      "192/192 [==============================] - 1s 3ms/step - loss: 1274731.5000 - mae: 812.6844 - val_loss: 1160429.7500 - val_mae: 774.2812\n",
      "Epoch 14/50\n",
      "192/192 [==============================] - 1s 3ms/step - loss: 1266798.0000 - mae: 811.0036 - val_loss: 1155141.8750 - val_mae: 771.9942\n",
      "Epoch 15/50\n",
      "192/192 [==============================] - 1s 3ms/step - loss: 1261648.6250 - mae: 806.4037 - val_loss: 1146455.0000 - val_mae: 773.7527\n",
      "Epoch 16/50\n",
      "192/192 [==============================] - 1s 3ms/step - loss: 1256057.0000 - mae: 806.2012 - val_loss: 1145018.3750 - val_mae: 766.4678\n",
      "Epoch 17/50\n",
      "192/192 [==============================] - 1s 3ms/step - loss: 1250514.5000 - mae: 802.2510 - val_loss: 1136391.8750 - val_mae: 764.8614\n",
      "Epoch 18/50\n",
      "192/192 [==============================] - 1s 3ms/step - loss: 1245245.0000 - mae: 800.8690 - val_loss: 1131118.1250 - val_mae: 762.6194\n",
      "Epoch 19/50\n",
      "192/192 [==============================] - 1s 3ms/step - loss: 1240725.7500 - mae: 799.0677 - val_loss: 1131451.0000 - val_mae: 761.5880\n",
      "Epoch 20/50\n",
      "192/192 [==============================] - 1s 3ms/step - loss: 1236112.0000 - mae: 795.7864 - val_loss: 1122425.6250 - val_mae: 758.3369\n",
      "Epoch 21/50\n",
      "192/192 [==============================] - 1s 3ms/step - loss: 1232468.2500 - mae: 795.1275 - val_loss: 1124542.2500 - val_mae: 755.3619\n",
      "Epoch 22/50\n",
      "192/192 [==============================] - 1s 3ms/step - loss: 1226924.2500 - mae: 792.8646 - val_loss: 1129135.6250 - val_mae: 753.6335\n",
      "Epoch 23/50\n",
      "192/192 [==============================] - 1s 3ms/step - loss: 1223797.2500 - mae: 791.0541 - val_loss: 1121638.7500 - val_mae: 750.4735\n",
      "Epoch 24/50\n",
      "192/192 [==============================] - 1s 3ms/step - loss: 1219231.6250 - mae: 788.0695 - val_loss: 1112679.0000 - val_mae: 748.9073\n",
      "Epoch 25/50\n",
      "192/192 [==============================] - 1s 3ms/step - loss: 1216823.3750 - mae: 787.0314 - val_loss: 1112079.8750 - val_mae: 748.6740\n",
      "Epoch 26/50\n",
      "192/192 [==============================] - 1s 3ms/step - loss: 1215637.7500 - mae: 786.2600 - val_loss: 1100249.2500 - val_mae: 747.4462\n",
      "Epoch 27/50\n",
      "192/192 [==============================] - 1s 3ms/step - loss: 1212875.2500 - mae: 784.8552 - val_loss: 1096361.2500 - val_mae: 745.8392\n",
      "Epoch 28/50\n",
      "192/192 [==============================] - 1s 3ms/step - loss: 1209694.2500 - mae: 782.5438 - val_loss: 1091512.7500 - val_mae: 744.6558\n",
      "Epoch 29/50\n",
      "192/192 [==============================] - 1s 3ms/step - loss: 1205991.1250 - mae: 782.1102 - val_loss: 1089729.2500 - val_mae: 742.9257\n",
      "Epoch 30/50\n",
      "192/192 [==============================] - 1s 3ms/step - loss: 1202654.2500 - mae: 780.2043 - val_loss: 1095000.6250 - val_mae: 741.1827\n",
      "Epoch 31/50\n",
      "192/192 [==============================] - 1s 3ms/step - loss: 1201908.1250 - mae: 778.3929 - val_loss: 1082077.1250 - val_mae: 740.9115\n",
      "Epoch 32/50\n",
      "192/192 [==============================] - 1s 3ms/step - loss: 1199778.8750 - mae: 777.6236 - val_loss: 1080708.7500 - val_mae: 738.2863\n",
      "Epoch 33/50\n",
      "192/192 [==============================] - 1s 3ms/step - loss: 1197540.8750 - mae: 777.4210 - val_loss: 1082610.5000 - val_mae: 737.3522\n",
      "Epoch 34/50\n",
      "192/192 [==============================] - 1s 3ms/step - loss: 1197440.1250 - mae: 776.2634 - val_loss: 1076802.5000 - val_mae: 736.4894\n",
      "Epoch 35/50\n",
      "192/192 [==============================] - 1s 3ms/step - loss: 1194576.0000 - mae: 774.5742 - val_loss: 1074863.0000 - val_mae: 733.9250\n",
      "Epoch 36/50\n",
      "192/192 [==============================] - 1s 3ms/step - loss: 1192980.3750 - mae: 774.4786 - val_loss: 1076920.1250 - val_mae: 734.8285\n",
      "Epoch 37/50\n",
      "192/192 [==============================] - 1s 3ms/step - loss: 1190123.7500 - mae: 774.3762 - val_loss: 1078828.0000 - val_mae: 734.0018\n",
      "Epoch 38/50\n",
      "192/192 [==============================] - 1s 3ms/step - loss: 1190499.3750 - mae: 771.7769 - val_loss: 1072118.3750 - val_mae: 733.0119\n",
      "Epoch 39/50\n",
      "192/192 [==============================] - 1s 3ms/step - loss: 1191184.6250 - mae: 772.8585 - val_loss: 1074291.1250 - val_mae: 732.3508\n",
      "Epoch 40/50\n",
      "192/192 [==============================] - 1s 3ms/step - loss: 1190035.5000 - mae: 771.5814 - val_loss: 1067521.8750 - val_mae: 732.5700\n",
      "Epoch 41/50\n",
      "192/192 [==============================] - 1s 3ms/step - loss: 1187347.3750 - mae: 770.6675 - val_loss: 1068790.7500 - val_mae: 732.3725\n",
      "Epoch 42/50\n",
      "192/192 [==============================] - 1s 3ms/step - loss: 1185493.3750 - mae: 771.1600 - val_loss: 1069399.8750 - val_mae: 730.9470\n",
      "Epoch 43/50\n",
      "192/192 [==============================] - 1s 3ms/step - loss: 1184298.2500 - mae: 769.8940 - val_loss: 1070653.8750 - val_mae: 730.4467\n",
      "Epoch 44/50\n",
      "192/192 [==============================] - 1s 3ms/step - loss: 1184448.6250 - mae: 769.3076 - val_loss: 1068405.5000 - val_mae: 730.5836\n",
      "Epoch 45/50\n",
      "192/192 [==============================] - 1s 3ms/step - loss: 1183242.7500 - mae: 768.2750 - val_loss: 1063766.7500 - val_mae: 729.3483\n",
      "Epoch 46/50\n",
      "192/192 [==============================] - 1s 3ms/step - loss: 1182406.1250 - mae: 767.6704 - val_loss: 1064625.2500 - val_mae: 728.6552\n",
      "Epoch 47/50\n",
      "192/192 [==============================] - 1s 3ms/step - loss: 1182194.8750 - mae: 766.5134 - val_loss: 1073122.3750 - val_mae: 730.4946\n",
      "Epoch 48/50\n",
      "192/192 [==============================] - 1s 3ms/step - loss: 1179935.8750 - mae: 767.3226 - val_loss: 1067562.5000 - val_mae: 730.1752\n",
      "Epoch 49/50\n",
      "192/192 [==============================] - 1s 4ms/step - loss: 1182328.1250 - mae: 766.9664 - val_loss: 1063021.2500 - val_mae: 727.1198\n",
      "Epoch 50/50\n",
      "192/192 [==============================] - 1s 4ms/step - loss: 1179356.1250 - mae: 766.1467 - val_loss: 1068122.7500 - val_mae: 729.5555\n",
      "54/54 [==============================] - 0s 3ms/step - loss: 1093836.6250 - mae: 746.6324\n",
      "\n",
      "✅ Test MAE: 746.63\n",
      "✅ Test MSE: 1093836.62\n",
      "54/54 [==============================] - 0s 3ms/step\n",
      "✅ Test R2 Score: 0.5986\n"
     ]
    }
   ],
   "source": [
    "import tensorflow as tf\n",
    "from tensorflow.keras.models import Sequential\n",
    "from tensorflow.keras.layers import Dense\n",
    "import matplotlib.pyplot as plt\n",
    "from sklearn.metrics import r2_score\n",
    "import numpy as np\n",
    "\n",
    "# Define the model\n",
    "model = Sequential([\n",
    "    Dense(64, activation='relu', input_shape=(X_train.shape[1],)),\n",
    "    Dense(32, activation='relu'),\n",
    "    Dense(16, activation='relu'),\n",
    "    Dense(1)  # Regression output (no activation)\n",
    "])\n",
    "\n",
    "# Compile the model\n",
    "model.compile(optimizer='adam', loss='mean_squared_error', metrics=['mae'])\n",
    "\n",
    "# Train the model\n",
    "history = model.fit(X_train_std, Y_train, validation_split=0.1, epochs=50, batch_size=32)\n",
    "\n",
    "# Evaluate the model\n",
    "loss, mae = model.evaluate(X_test_std, Y_test)\n",
    "print(f\"\\n Test MAE: {mae:.2f}\")\n",
    "print(f\" Test MSE: {loss:.2f}\")\n",
    "\n",
    "# Predict using the model\n",
    "y_pred = model.predict(X_test_std)\n",
    "\n",
    "# Calculate and print R2 score\n",
    "r2 = r2_score(Y_test, y_pred)\n",
    "print(f\" Test R2 Score: {r2:.4f}\")\n",
    "\n"
   ]
  },
  {
   "cell_type": "code",
   "execution_count": 168,
   "id": "99c979d4-055c-44e7-a3ba-9367a20fd7fb",
   "metadata": {},
   "outputs": [
    {
     "data": {
      "image/png": "[encoded data removed]",
      "text/plain": [
       "<Figure size 1000x500 with 1 Axes>"
      ]
     },
     "metadata": {},
     "output_type": "display_data"
    }
   ],
   "source": [
    "# Plot training vs validation loss\n",
    "plt.figure(figsize=(10, 5))\n",
    "plt.plot(history.history['loss'], label='Train Loss')\n",
    "plt.plot(history.history['val_loss'], label='Validation Loss')\n",
    "plt.title('Loss During Training')\n",
    "plt.xlabel('Epoch')\n",
    "plt.ylabel('Loss (MSE)')\n",
    "plt.legend()\n",
    "plt.grid(True)\n",
    "plt.tight_layout()\n",
    "plt.show()\n"
   ]
  },
  {
   "cell_type": "code",
   "execution_count": 172,
   "id": "d57bf4c5-990c-4f11-bbdb-677bd8e425bf",
   "metadata": {},
   "outputs": [
    {
     "name": "stdout",
     "output_type": "stream",
     "text": [
      "Epoch 1/100\n",
      "171/171 [==============================] - 3s 5ms/step - loss: 6198293.0000 - mae: 1878.4774 - val_loss: 2075291.3750 - val_mae: 1066.0428\n",
      "Epoch 2/100\n",
      "171/171 [==============================] - 1s 4ms/step - loss: 1662078.7500 - mae: 972.6301 - val_loss: 1471923.2500 - val_mae: 915.9257\n",
      "Epoch 3/100\n",
      "171/171 [==============================] - 1s 4ms/step - loss: 1504254.8750 - mae: 904.3824 - val_loss: 1429003.5000 - val_mae: 883.0771\n",
      "Epoch 4/100\n",
      "171/171 [==============================] - 1s 4ms/step - loss: 1448260.2500 - mae: 879.5902 - val_loss: 1397597.1250 - val_mae: 866.9905\n",
      "Epoch 5/100\n",
      "171/171 [==============================] - 1s 4ms/step - loss: 1429630.6250 - mae: 868.1461 - val_loss: 1367545.6250 - val_mae: 854.2825\n",
      "Epoch 6/100\n",
      "171/171 [==============================] - 1s 4ms/step - loss: 1416471.6250 - mae: 853.1939 - val_loss: 1350569.6250 - val_mae: 844.8065\n",
      "Epoch 7/100\n",
      "171/171 [==============================] - 1s 4ms/step - loss: 1404985.7500 - mae: 855.6437 - val_loss: 1331108.1250 - val_mae: 846.5042\n",
      "Epoch 8/100\n",
      "171/171 [==============================] - 1s 4ms/step - loss: 1373454.7500 - mae: 842.2885 - val_loss: 1314950.6250 - val_mae: 835.9988\n",
      "Epoch 9/100\n",
      "171/171 [==============================] - 1s 4ms/step - loss: 1377908.0000 - mae: 837.4305 - val_loss: 1305764.7500 - val_mae: 826.3594\n",
      "Epoch 10/100\n",
      "171/171 [==============================] - 1s 4ms/step - loss: 1354790.6250 - mae: 835.4706 - val_loss: 1294823.0000 - val_mae: 822.8984\n",
      "Epoch 11/100\n",
      "171/171 [==============================] - 1s 4ms/step - loss: 1355027.0000 - mae: 832.7168 - val_loss: 1284199.7500 - val_mae: 821.9490\n",
      "Epoch 12/100\n",
      "171/171 [==============================] - 1s 4ms/step - loss: 1358508.0000 - mae: 831.8665 - val_loss: 1277587.7500 - val_mae: 814.9180\n",
      "Epoch 13/100\n",
      "171/171 [==============================] - 1s 4ms/step - loss: 1354113.3750 - mae: 826.9937 - val_loss: 1268101.6250 - val_mae: 811.6674\n",
      "Epoch 14/100\n",
      "171/171 [==============================] - 1s 4ms/step - loss: 1328077.0000 - mae: 825.3873 - val_loss: 1260558.2500 - val_mae: 810.2814\n",
      "Epoch 15/100\n",
      "171/171 [==============================] - 1s 4ms/step - loss: 1335200.8750 - mae: 823.9128 - val_loss: 1258164.1250 - val_mae: 807.6970\n",
      "Epoch 16/100\n",
      "171/171 [==============================] - 1s 4ms/step - loss: 1345960.6250 - mae: 823.6049 - val_loss: 1268213.1250 - val_mae: 804.0397\n",
      "Epoch 17/100\n",
      "171/171 [==============================] - 1s 4ms/step - loss: 1306587.2500 - mae: 816.6539 - val_loss: 1249260.5000 - val_mae: 803.9991\n",
      "Epoch 18/100\n",
      "171/171 [==============================] - 1s 4ms/step - loss: 1321825.5000 - mae: 820.1758 - val_loss: 1242109.1250 - val_mae: 802.6400\n",
      "Epoch 19/100\n",
      "171/171 [==============================] - 1s 4ms/step - loss: 1320410.7500 - mae: 819.2089 - val_loss: 1237735.3750 - val_mae: 797.3203\n",
      "Epoch 20/100\n",
      "171/171 [==============================] - 1s 4ms/step - loss: 1314091.7500 - mae: 818.0183 - val_loss: 1228015.0000 - val_mae: 797.4161\n",
      "Epoch 21/100\n",
      "171/171 [==============================] - 1s 4ms/step - loss: 1295185.6250 - mae: 811.4412 - val_loss: 1256075.0000 - val_mae: 792.9819\n",
      "Epoch 22/100\n",
      "171/171 [==============================] - 1s 4ms/step - loss: 1298566.3750 - mae: 810.0906 - val_loss: 1218703.5000 - val_mae: 793.0887\n",
      "Epoch 23/100\n",
      "171/171 [==============================] - 1s 4ms/step - loss: 1320044.2500 - mae: 816.6855 - val_loss: 1217251.1250 - val_mae: 789.0283\n",
      "Epoch 24/100\n",
      "171/171 [==============================] - 1s 4ms/step - loss: 1330120.2500 - mae: 819.0781 - val_loss: 1232346.3750 - val_mae: 787.7307\n",
      "Epoch 25/100\n",
      "171/171 [==============================] - 1s 4ms/step - loss: 1300692.0000 - mae: 810.0612 - val_loss: 1224574.5000 - val_mae: 787.8362\n",
      "Epoch 26/100\n",
      "171/171 [==============================] - 1s 4ms/step - loss: 1301246.1250 - mae: 807.5937 - val_loss: 1216441.7500 - val_mae: 783.7597\n",
      "Epoch 27/100\n",
      "171/171 [==============================] - 1s 4ms/step - loss: 1304196.8750 - mae: 811.3730 - val_loss: 1208165.6250 - val_mae: 785.6042\n",
      "Epoch 28/100\n",
      "171/171 [==============================] - 1s 4ms/step - loss: 1305130.7500 - mae: 805.9836 - val_loss: 1209247.1250 - val_mae: 782.2924\n",
      "Epoch 29/100\n",
      "171/171 [==============================] - 1s 4ms/step - loss: 1293384.1250 - mae: 803.0667 - val_loss: 1197677.2500 - val_mae: 782.9187\n",
      "Epoch 30/100\n",
      "171/171 [==============================] - 1s 5ms/step - loss: 1288153.3750 - mae: 806.8541 - val_loss: 1207302.7500 - val_mae: 779.0212\n",
      "Epoch 31/100\n",
      "171/171 [==============================] - 1s 4ms/step - loss: 1303627.2500 - mae: 805.0382 - val_loss: 1194157.8750 - val_mae: 779.2546\n",
      "Epoch 32/100\n",
      "171/171 [==============================] - 1s 4ms/step - loss: 1299301.7500 - mae: 803.9902 - val_loss: 1191010.5000 - val_mae: 777.1824\n",
      "Epoch 33/100\n",
      "171/171 [==============================] - 1s 4ms/step - loss: 1296221.7500 - mae: 803.2601 - val_loss: 1208550.8750 - val_mae: 777.7773\n",
      "Epoch 34/100\n",
      "171/171 [==============================] - 1s 4ms/step - loss: 1280676.7500 - mae: 798.4637 - val_loss: 1193528.6250 - val_mae: 777.9190\n",
      "Epoch 35/100\n",
      "171/171 [==============================] - 1s 4ms/step - loss: 1300311.8750 - mae: 805.1490 - val_loss: 1194914.5000 - val_mae: 776.1542\n",
      "Epoch 36/100\n",
      "171/171 [==============================] - 1s 4ms/step - loss: 1262026.2500 - mae: 799.8618 - val_loss: 1198258.1250 - val_mae: 774.4068\n",
      "Epoch 37/100\n",
      "171/171 [==============================] - 1s 4ms/step - loss: 1295625.3750 - mae: 801.6446 - val_loss: 1190258.6250 - val_mae: 773.6993\n",
      "Epoch 38/100\n",
      "171/171 [==============================] - 1s 4ms/step - loss: 1282077.6250 - mae: 801.6448 - val_loss: 1185879.1250 - val_mae: 772.4613\n",
      "Epoch 39/100\n",
      "171/171 [==============================] - 1s 4ms/step - loss: 1276497.2500 - mae: 797.5610 - val_loss: 1190784.5000 - val_mae: 771.2849\n",
      "Epoch 40/100\n",
      "171/171 [==============================] - 1s 4ms/step - loss: 1307138.8750 - mae: 801.6035 - val_loss: 1183225.0000 - val_mae: 776.3420\n",
      "Epoch 41/100\n",
      "171/171 [==============================] - 1s 4ms/step - loss: 1292084.2500 - mae: 801.3437 - val_loss: 1194572.7500 - val_mae: 771.6065\n",
      "Epoch 42/100\n",
      "171/171 [==============================] - 1s 4ms/step - loss: 1289388.6250 - mae: 798.8757 - val_loss: 1181627.7500 - val_mae: 770.4134\n",
      "Epoch 43/100\n",
      "171/171 [==============================] - 1s 5ms/step - loss: 1265392.3750 - mae: 790.0395 - val_loss: 1187053.2500 - val_mae: 768.8871\n",
      "Epoch 44/100\n",
      "171/171 [==============================] - 1s 4ms/step - loss: 1277318.6250 - mae: 793.9412 - val_loss: 1178759.3750 - val_mae: 770.6672\n",
      "Epoch 45/100\n",
      "171/171 [==============================] - 1s 4ms/step - loss: 1254088.7500 - mae: 791.9592 - val_loss: 1185196.3750 - val_mae: 767.5814\n",
      "Epoch 46/100\n",
      "171/171 [==============================] - 1s 4ms/step - loss: 1292804.0000 - mae: 801.1450 - val_loss: 1178439.3750 - val_mae: 768.0992\n",
      "Epoch 47/100\n",
      "171/171 [==============================] - 1s 4ms/step - loss: 1280034.8750 - mae: 792.7442 - val_loss: 1183836.3750 - val_mae: 767.0599\n",
      "Epoch 48/100\n",
      "171/171 [==============================] - 1s 4ms/step - loss: 1282491.2500 - mae: 798.6689 - val_loss: 1192712.8750 - val_mae: 767.2471\n",
      "Epoch 49/100\n",
      "171/171 [==============================] - 1s 4ms/step - loss: 1262852.8750 - mae: 790.4957 - val_loss: 1182920.2500 - val_mae: 765.7191\n",
      "Epoch 50/100\n",
      "171/171 [==============================] - 1s 4ms/step - loss: 1285421.8750 - mae: 797.0376 - val_loss: 1172742.1250 - val_mae: 767.3899\n",
      "Epoch 51/100\n",
      "171/171 [==============================] - 1s 5ms/step - loss: 1277657.1250 - mae: 789.7352 - val_loss: 1182739.2500 - val_mae: 765.9743\n",
      "Epoch 52/100\n",
      "171/171 [==============================] - 1s 4ms/step - loss: 1270349.7500 - mae: 794.0991 - val_loss: 1173750.2500 - val_mae: 766.0024\n",
      "Epoch 53/100\n",
      "171/171 [==============================] - 1s 4ms/step - loss: 1261552.6250 - mae: 787.9237 - val_loss: 1184128.1250 - val_mae: 765.6951\n",
      "Epoch 54/100\n",
      "171/171 [==============================] - 1s 4ms/step - loss: 1282797.3750 - mae: 794.4701 - val_loss: 1177110.7500 - val_mae: 766.2553\n",
      "Epoch 55/100\n",
      "171/171 [==============================] - 1s 4ms/step - loss: 1278369.1250 - mae: 792.1591 - val_loss: 1180642.5000 - val_mae: 765.5753\n",
      "Epoch 56/100\n",
      "171/171 [==============================] - 1s 4ms/step - loss: 1276483.8750 - mae: 793.0456 - val_loss: 1173398.7500 - val_mae: 763.3341\n",
      "Epoch 57/100\n",
      "171/171 [==============================] - 1s 4ms/step - loss: 1255396.5000 - mae: 788.3015 - val_loss: 1166263.8750 - val_mae: 762.8029\n",
      "Epoch 58/100\n",
      "171/171 [==============================] - 1s 3ms/step - loss: 1254947.7500 - mae: 790.3813 - val_loss: 1172804.3750 - val_mae: 762.3290\n",
      "Epoch 59/100\n",
      "171/171 [==============================] - 1s 3ms/step - loss: 1241596.1250 - mae: 786.4856 - val_loss: 1170561.0000 - val_mae: 766.1127\n",
      "Epoch 60/100\n",
      "171/171 [==============================] - 1s 4ms/step - loss: 1268060.6250 - mae: 788.8457 - val_loss: 1167874.7500 - val_mae: 764.4666\n",
      "Epoch 61/100\n",
      "171/171 [==============================] - 1s 4ms/step - loss: 1265069.8750 - mae: 791.5973 - val_loss: 1178620.3750 - val_mae: 764.1157\n",
      "Epoch 62/100\n",
      "171/171 [==============================] - 1s 4ms/step - loss: 1294370.6250 - mae: 796.3223 - val_loss: 1174758.3750 - val_mae: 762.3141\n",
      "Epoch 63/100\n",
      "171/171 [==============================] - 1s 4ms/step - loss: 1266574.0000 - mae: 790.5208 - val_loss: 1169277.2500 - val_mae: 766.5466\n",
      "Epoch 64/100\n",
      "171/171 [==============================] - 1s 4ms/step - loss: 1260434.2500 - mae: 788.5128 - val_loss: 1180043.3750 - val_mae: 761.9898\n",
      "Epoch 65/100\n",
      "171/171 [==============================] - 1s 4ms/step - loss: 1282409.3750 - mae: 795.1603 - val_loss: 1193137.3750 - val_mae: 764.6186\n",
      "Epoch 66/100\n",
      "171/171 [==============================] - 1s 3ms/step - loss: 1266270.8750 - mae: 789.0303 - val_loss: 1169915.3750 - val_mae: 761.8365\n",
      "Epoch 67/100\n",
      "171/171 [==============================] - 1s 4ms/step - loss: 1261760.8750 - mae: 786.0911 - val_loss: 1173549.6250 - val_mae: 761.9471\n",
      "54/54 [==============================] - 0s 2ms/step - loss: 1095417.2500 - mae: 745.7835\n",
      "54/54 [==============================] - 0s 2ms/step\n",
      " Test MAE: 745.78\n",
      " Test RMSE: 1046.62\n",
      " Test R2 Score: 0.5981\n"
     ]
    }
   ],
   "source": [
    "import tensorflow as tf\n",
    "from tensorflow.keras.models import Sequential\n",
    "from tensorflow.keras.layers import Dense, Dropout\n",
    "from tensorflow.keras.callbacks import EarlyStopping\n",
    "from tensorflow.keras.optimizers import Adam\n",
    "from sklearn.metrics import r2_score, mean_absolute_error, mean_squared_error\n",
    "import matplotlib.pyplot as plt\n",
    "import numpy as np\n",
    "\n",
    "# Build Improved ANN\n",
    "model = Sequential()\n",
    "model.add(Dense(128, activation='relu', input_shape=(X_train_std.shape[1],)))\n",
    "model.add(Dropout(0.3))  # prevents overfitting \n",
    "#30% of the neurons (because of 0.3) in that layer are randomly turned off (i.e., ignored).\n",
    "\n",
    "model.add(Dense(64, activation='relu'))\n",
    "model.add(Dropout(0.3))\n",
    "\n",
    "model.add(Dense(32, activation='relu'))\n",
    "\n",
    "model.add(Dense(1))  # Output layer (regression)\n",
    "\n",
    "# Compile with tuned optimizer\n",
    "opt = Adam(learning_rate=0.001) \n",
    "model.compile(optimizer=opt, loss='mse', metrics=['mae'])\n",
    "\n",
    "# Early stopping to avoid overtraining\n",
    "early_stop = EarlyStopping(monitor='val_loss', patience=10, restore_best_weights=True)\n",
    "\n",
    "# Train\n",
    "history = model.fit(X_train_std, Y_train, \n",
    "                    validation_split=0.2, \n",
    "                    epochs=100, \n",
    "                    batch_size=32, \n",
    "                    callbacks=[early_stop],\n",
    "                    verbose=1)\n",
    "\n",
    "# Evaluate\n",
    "loss, mae = model.evaluate(X_test_std, Y_test)\n",
    "y_pred = model.predict(X_test_std)\n",
    "\n",
    "# Metrics\n",
    "print(\" Test MAE:\", round(mae, 2))\n",
    "print(\" Test RMSE:\", round(np.sqrt(mean_squared_error(Y_test, y_pred)), 2))\n",
    "print(\" Test R2 Score:\", round(r2_score(Y_test, y_pred), 4))\n",
    "\n",
    "\n"
   ]
  },
  {
   "cell_type": "code",
   "execution_count": 173,
   "id": "7b50d1a1-145e-473f-97ec-9acc485f287e",
   "metadata": {},
   "outputs": [
    {
     "name": "stderr",
     "output_type": "stream",
     "text": [
      "C:\\Users\\HP\\AppData\\Local\\Programs\\Python\\Python310\\lib\\site-packages\\IPython\\core\\pylabtools.py:152: UserWarning: Glyph 128201 (\\N{CHART WITH DOWNWARDS TREND}) missing from current font.\n",
      "  fig.canvas.print_figure(bytes_io, **kw)\n"
     ]
    },
    {
     "data": {
      "image/png": "[encoded data removed]",
      "text/plain": [
       "<Figure size 640x480 with 1 Axes>"
      ]
     },
     "metadata": {},
     "output_type": "display_data"
    }
   ],
   "source": [
    "# Plot training vs validation loss\n",
    "plt.plot(history.history['loss'], label='Train Loss')\n",
    "plt.plot(history.history['val_loss'], label='Validation Loss')\n",
    "plt.title(\" Loss During Training\")\n",
    "plt.xlabel(\"Epoch\")\n",
    "plt.ylabel(\"Loss (MSE)\")\n",
    "plt.legend()\n",
    "plt.grid(True)\n",
    "plt.show()"
   ]
  },
  {
   "cell_type": "code",
   "execution_count": null,
   "id": "7f7cbdb4-a86b-47ec-bf6e-51c315183698",
   "metadata": {},
   "outputs": [],
   "source": []
  },
  {
   "cell_type": "code",
   "execution_count": 171,
   "id": "30b72957-0cad-46f1-bb42-209e55a1d14a",
   "metadata": {},
   "outputs": [
    {
     "data": {
      "image/png": "[encoded data removed]",
      "text/plain": [
       "<Figure size 640x480 with 1 Axes>"
      ]
     },
     "metadata": {},
     "output_type": "display_data"
    }
   ],
   "source": [
    "plt.plot(history.history['mae'], label='Train MAE')\n",
    "plt.plot(history.history['val_mae'], label='Validation MAE')\n",
    "plt.title(\" MAE During Training\")\n",
    "plt.xlabel(\"Epoch\")\n",
    "plt.ylabel(\"Mean Absolute Error\")\n",
    "plt.legend()\n",
    "plt.grid(True)\n",
    "plt.show()\n"
   ]
  },
  {
   "cell_type": "code",
   "execution_count": 157,
   "id": "bd89081d-36ca-4ad3-8bbd-5681fc6b505e",
   "metadata": {},
   "outputs": [
    {
     "name": "stderr",
     "output_type": "stream",
     "text": [
      "C:\\Users\\HP\\AppData\\Local\\Programs\\Python\\Python310\\lib\\site-packages\\IPython\\core\\pylabtools.py:152: UserWarning: Glyph 127919 (\\N{DIRECT HIT}) missing from current font.\n",
      "  fig.canvas.print_figure(bytes_io, **kw)\n"
     ]
    },
    {
     "data": {
      "image/png": "[encoded data removed]",
      "text/plain": [
       "<Figure size 640x480 with 1 Axes>"
      ]
     },
     "metadata": {},
     "output_type": "display_data"
    }
   ],
   "source": [
    "plt.scatter(Y_test, y_pred, alpha=0.6, color='green')\n",
    "plt.plot([Y_test.min(), Y_test.max()], [Y_test.min(), Y_test.max()], 'r--')  # perfect line\n",
    "plt.title(\" Predicted vs Actual\")\n",
    "plt.xlabel(\"Actual\")\n",
    "plt.ylabel(\"Predicted\")\n",
    "plt.grid(True)\n",
    "plt.show()\n"
   ]
  },
  {
   "cell_type": "code",
   "execution_count": 158,
   "id": "244d7879-3ee6-4fad-93c8-c7f92f267e1f",
   "metadata": {},
   "outputs": [
    {
     "data": {
      "image/png": "[encoded data removed]",
      "text/plain": [
       "<Figure size 1400x500 with 2 Axes>"
      ]
     },
     "metadata": {},
     "output_type": "display_data"
    }
   ],
   "source": [
    "fig, ax = plt.subplots(1, 2, figsize=(14, 5))\n",
    "\n",
    "# Loss\n",
    "ax[0].plot(history.history['loss'], label='Train Loss')\n",
    "ax[0].plot(history.history['val_loss'], label='Validation Loss')\n",
    "ax[0].set_title('MSE Loss')\n",
    "ax[0].set_xlabel('Epoch')\n",
    "ax[0].set_ylabel('Loss')\n",
    "ax[0].legend()\n",
    "ax[0].grid(True)\n",
    "\n",
    "# MAE\n",
    "ax[1].plot(history.history['mae'], label='Train MAE')\n",
    "ax[1].plot(history.history['val_mae'], label='Validation MAE')\n",
    "ax[1].set_title('MAE')\n",
    "ax[1].set_xlabel('Epoch')\n",
    "ax[1].set_ylabel('MAE')\n",
    "ax[1].legend()\n",
    "ax[1].grid(True)\n",
    "\n",
    "plt.tight_layout()\n",
    "plt.show()\n"
   ]
  },
  {
   "cell_type": "code",
   "execution_count": null,
   "id": "4f1d7695-bd52-482c-8e12-c9f97c42ff46",
   "metadata": {},
   "outputs": [],
   "source": []
  }
 ],
 "metadata": {
  "kernelspec": {
   "display_name": "Python 3 (ipykernel)",
   "language": "python",
   "name": "python3"
  },
  "language_info": {
   "codemirror_mode": {
    "name": "ipython",
    "version": 3
   },
   "file_extension": ".py",
   "mimetype": "text/x-python",
   "name": "python",
   "nbconvert_exporter": "python",
   "pygments_lexer": "ipython3",
   "version": "3.10.0"
  }
 },
 "nbformat": 4,
 "nbformat_minor": 5
}
